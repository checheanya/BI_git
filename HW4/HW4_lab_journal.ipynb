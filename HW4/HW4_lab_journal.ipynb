{
  "nbformat": 4,
  "nbformat_minor": 0,
  "metadata": {
    "colab": {
      "provenance": [],
      "collapsed_sections": [
        "wTZoQlfNS1XX",
        "mwIvxRN2S90O"
      ]
    },
    "kernelspec": {
      "name": "python3",
      "display_name": "Python 3"
    },
    "language_info": {
      "name": "python"
    }
  },
  "cells": [
    {
      "cell_type": "markdown",
      "source": [
        "# Lab journal for the Project 4 \"Tardigrades: from genestealers to space marines\"\n",
        "\n",
        "> *by Anna Chechenina*"
      ],
      "metadata": {
        "id": "5YYXaaVnCx7p"
      }
    },
    {
      "cell_type": "markdown",
      "source": [
        "Downloading the assembled genome:"
      ],
      "metadata": {
        "id": "SuDmPh7zGWJs"
      }
    },
    {
      "cell_type": "code",
      "execution_count": null,
      "metadata": {
        "colab": {
          "base_uri": "https://localhost:8080/"
        },
        "id": "FSNeN8IrCuG6",
        "outputId": "f0b22c21-fbe3-4956-e515-3b6147989ffa"
      },
      "outputs": [
        {
          "output_type": "stream",
          "name": "stdout",
          "text": [
            "--2022-12-15 23:22:48--  http://ftp.ncbi.nlm.nih.gov/genomes/all/GCA/001/949/185/GCA_001949185.1_Rvar_4.0/GCA_001949185.1_Rvar_4.0_genomic.fna.gz\n",
            "Resolving ftp.ncbi.nlm.nih.gov (ftp.ncbi.nlm.nih.gov)... 130.14.250.10, 165.112.9.230, 2607:f220:41e:250::11, ...\n",
            "Connecting to ftp.ncbi.nlm.nih.gov (ftp.ncbi.nlm.nih.gov)|130.14.250.10|:80... connected.\n",
            "HTTP request sent, awaiting response... 301 Moved Permanently\n",
            "Location: https://ftp.ncbi.nlm.nih.gov/genomes/all/GCA/001/949/185/GCA_001949185.1_Rvar_4.0/GCA_001949185.1_Rvar_4.0_genomic.fna.gz [following]\n",
            "--2022-12-15 23:22:49--  https://ftp.ncbi.nlm.nih.gov/genomes/all/GCA/001/949/185/GCA_001949185.1_Rvar_4.0/GCA_001949185.1_Rvar_4.0_genomic.fna.gz\n",
            "Connecting to ftp.ncbi.nlm.nih.gov (ftp.ncbi.nlm.nih.gov)|130.14.250.10|:443... connected.\n",
            "HTTP request sent, awaiting response... 200 OK\n",
            "Length: 17621408 (17M) [application/x-gzip]\n",
            "Saving to: ‘GCA_001949185.1_Rvar_4.0_genomic.fna.gz’\n",
            "\n",
            "GCA_001949185.1_Rva 100%[===================>]  16.80M  13.5MB/s    in 1.2s    \n",
            "\n",
            "2022-12-15 23:22:50 (13.5 MB/s) - ‘GCA_001949185.1_Rvar_4.0_genomic.fna.gz’ saved [17621408/17621408]\n",
            "\n"
          ]
        }
      ],
      "source": [
        "!mkdir raw_data\n",
        "!cd raw_data\n",
        "!wget ftp.ncbi.nlm.nih.gov/genomes/all/GCA/001/949/185/GCA_001949185.1_Rvar_4.0/GCA_001949185.1_Rvar_4.0_genomic.fna.gz"
      ]
    },
    {
      "cell_type": "markdown",
      "source": [
        "Getting the fasta file with all proteins for all genes predicted with AUGUST (https://math-inf.uni-greifswald.de/en/department/about-us/employees/prof-dr-mario-stanke-english/publications/#c302071 --> book chapters):"
      ],
      "metadata": {
        "id": "A5390-DlJeYE"
      }
    },
    {
      "cell_type": "code",
      "source": [
        "!perl getAnnoFasta.pl augustus.whole.gff"
      ],
      "metadata": {
        "id": "02-PLIYsGEIO"
      },
      "execution_count": null,
      "outputs": []
    },
    {
      "cell_type": "code",
      "source": [
        "# number of sequnces\n",
        "!cat ./augustus.whole.aa | grep '>' | wc -l"
      ],
      "metadata": {
        "colab": {
          "base_uri": "https://localhost:8080/"
        },
        "id": "vWEjXWQGJy_y",
        "outputId": "39345ede-3c8f-4448-99a8-0302269409e3"
      },
      "execution_count": null,
      "outputs": [
        {
          "output_type": "stream",
          "name": "stdout",
          "text": [
            "16435\n"
          ]
        }
      ]
    },
    {
      "cell_type": "markdown",
      "source": [
        "That's a lot! So now we have to chose which genes are actually worth to be checked. Since we are dealing with radiation, we'll look for a reparation-related genes. \n",
        "\n",
        "We got list of peptides from proteins that are able to bind DNA. We will do a local alignment-based search: create a local database from our protein fasta file and look it up using your peptide sequence file as a query."
      ],
      "metadata": {
        "id": "QXHob9BANwlw"
      }
    },
    {
      "cell_type": "markdown",
      "source": [
        "## Conda instalation"
      ],
      "metadata": {
        "id": "wTZoQlfNS1XX"
      }
    },
    {
      "cell_type": "code",
      "source": [
        "!pip install -q condacolab"
      ],
      "metadata": {
        "id": "SwjiwO_sNicr"
      },
      "execution_count": null,
      "outputs": []
    },
    {
      "cell_type": "code",
      "source": [
        "import condacolab\n",
        "condacolab.install()"
      ],
      "metadata": {
        "colab": {
          "base_uri": "https://localhost:8080/"
        },
        "id": "N0XRUqWQSZ4L",
        "outputId": "8d422347-0b96-4ae8-c600-5efce237fab1"
      },
      "execution_count": null,
      "outputs": [
        {
          "output_type": "stream",
          "name": "stdout",
          "text": [
            "⏬ Downloading https://github.com/jaimergp/miniforge/releases/latest/download/Mambaforge-colab-Linux-x86_64.sh...\n",
            "📦 Installing...\n",
            "📌 Adjusting configuration...\n",
            "🩹 Patching environment...\n",
            "⏲ Done in 0:00:28\n",
            "🔁 Restarting kernel...\n"
          ]
        }
      ]
    },
    {
      "cell_type": "markdown",
      "source": [
        "## Diamond run - local alignment"
      ],
      "metadata": {
        "id": "mwIvxRN2S90O"
      }
    },
    {
      "cell_type": "code",
      "source": [
        "!conda install -c bioconda diamond"
      ],
      "metadata": {
        "id": "fPGeT3k3SVRD"
      },
      "execution_count": null,
      "outputs": []
    },
    {
      "cell_type": "code",
      "source": [
        "!diamond --help"
      ],
      "metadata": {
        "id": "Yaf0bZaoStRH"
      },
      "execution_count": null,
      "outputs": []
    },
    {
      "cell_type": "code",
      "source": [
        "!diamond makedb --in augustus.whole.aa --db tardigrade_db "
      ],
      "metadata": {
        "colab": {
          "base_uri": "https://localhost:8080/"
        },
        "id": "MuRaRvK-SlPC",
        "outputId": "82421665-b620-4301-ea8d-e9d51749adc3"
      },
      "execution_count": null,
      "outputs": [
        {
          "output_type": "stream",
          "name": "stdout",
          "text": [
            "diamond v2.0.15.153 (C) Max Planck Society for the Advancement of Science\n",
            "Documentation, support and updates available at http://www.diamondsearch.org\n",
            "Please cite: http://dx.doi.org/10.1038/s41592-021-01101-x Nature Methods (2021)\n",
            "\n",
            "#CPU threads: 2\n",
            "Scoring parameters: (Matrix=BLOSUM62 Lambda=0.267 K=0.041 Penalties=11/1)\n",
            "Database input file: augustus.whole.aa\n",
            "Opening the database file...  [0s]\n",
            "Loading sequences...  [0.064s]\n",
            "Masking sequences...  [0.646s]\n",
            "Writing sequences...  [0.011s]\n",
            "Hashing sequences...  [0.003s]\n",
            "Loading sequences...  [0s]\n",
            "Writing trailer...  [0s]\n",
            "Closing the input file...  [0s]\n",
            "Closing the database file...  [0.004s]\n",
            "\n",
            "Database sequences  16435\n",
            "  Database letters  7015168\n",
            "     Database hash  590081acba74e419860a4dfdcf0de70e\n",
            "        Total time  0.732000s\n"
          ]
        }
      ]
    },
    {
      "cell_type": "code",
      "source": [
        "!diamond blastp -d tardigrade_db.dmnd -q peptides.fa -f 6 -o diamond_blastp_res.fa --ultra-sensitive                                       "
      ],
      "metadata": {
        "id": "Szs2Ccc-TGuO"
      },
      "execution_count": null,
      "outputs": []
    },
    {
      "cell_type": "markdown",
      "source": [
        "## Blastp run - local alignment (check)"
      ],
      "metadata": {
        "id": "ueD1dhO5T0SR"
      }
    },
    {
      "cell_type": "code",
      "source": [
        "!conda install -c bioconda blast"
      ],
      "metadata": {
        "id": "QpxY1KjCTorf"
      },
      "execution_count": null,
      "outputs": []
    },
    {
      "cell_type": "code",
      "source": [
        "!blastp --help"
      ],
      "metadata": {
        "id": "ST2YdiMKUxIu"
      },
      "execution_count": null,
      "outputs": []
    },
    {
      "cell_type": "code",
      "source": [
        "!makeblastdb -in augustus.whole.aa -dbtype prot -out tardigrade_db"
      ],
      "metadata": {
        "colab": {
          "base_uri": "https://localhost:8080/"
        },
        "id": "KGx733dZU1gp",
        "outputId": "5208dbde-502b-4a7d-c1a7-6bb106f503c6"
      },
      "execution_count": null,
      "outputs": [
        {
          "output_type": "stream",
          "name": "stdout",
          "text": [
            "\n",
            "\n",
            "Building a new DB, current time: 12/16/2022 00:27:48\n",
            "New DB name:   /content/tardigrade_db\n",
            "New DB title:  augustus.whole.aa\n",
            "Sequence type: Protein\n",
            "Keep MBits: T\n",
            "Maximum file size: 3000000000B\n",
            "Adding sequences from FASTA; added 16435 sequences in 0.375116 seconds.\n",
            "\n",
            "\n"
          ]
        }
      ]
    },
    {
      "cell_type": "code",
      "source": [
        "!blastp -db tardigrade_db -query peptides.fa -outfmt 6 -out blastp_res.fa"
      ],
      "metadata": {
        "id": "3VFwxUSjVHaK"
      },
      "execution_count": null,
      "outputs": []
    },
    {
      "cell_type": "markdown",
      "source": [
        "We can observe that we cave different number of the output hits for blastp and for diamond. The reason is that diamond have troubles aligning sequences less than 12 amino acids, which is the case in our peptides file. \n",
        "\n",
        "So for the further analysis we will use results from blastp (118 lines, 43 identifiers).\n",
        "\n",
        "## Extracting proteins of interest\n",
        "\n",
        "Now we will extract the extract proteins of interest from the initial file:"
      ],
      "metadata": {
        "id": "WflDnwBYV9WM"
      }
    },
    {
      "cell_type": "code",
      "source": [
        "!tail augustus.whole.aa"
      ],
      "metadata": {
        "colab": {
          "base_uri": "https://localhost:8080/"
        },
        "id": "aa1m6hgnVR-q",
        "outputId": "a6c50993-7114-436a-c305-704ed7ae5ab2"
      },
      "execution_count": null,
      "outputs": [
        {
          "output_type": "stream",
          "name": "stdout",
          "text": [
            "FPHCLGYVDGSLIGLQEAPSMCGEDYYTRKGSYAINAMIVCDDLKRIRHVLAGFPGCSHDHRVFMYSKLALNPFKYFSGHEYLLADSAYPVSDIIVPTFK\n",
            "KPLANSH\n",
            ">g16433.t1\n",
            "MHLDADIDESSKEEKPEIVMEYNRTKAGVDTLDQLTGNYSCRRKTSRWPMALFYDILDISTLDAYIIWCEINPGWNSTLPTKRRMFLQDVSKKMMQRQLL\n",
            "RRSTTPSISFSMKKFVSTVVPRVQVSSDQAVDEMANTSKPKALQKKPTR\n",
            ">g16434.t1\n",
            "RIHLLADCHLLKTLNLLQRDREVFPKVDLKSGVIWKVAFFSQALAAMERSVSQKNFGSPVLV\n",
            ">g16435.t1\n",
            "MKRPGGQKYHPWSDETKLKSGDVGGANHPWADEAKLNQHPKCAVLSSKLSNVTSMMKFLATGPTGECMSESRYTAFLAGQKNSLGVATKVAGGITSPSQL\n",
            "CLCKPLLYEEFLTFSNSMVMCETGLDDTCLTRKFK\n"
          ]
        }
      ]
    },
    {
      "cell_type": "code",
      "source": [
        "!conda install -c bioconda samtools "
      ],
      "metadata": {
        "id": "EF4zBAohXpCc"
      },
      "execution_count": null,
      "outputs": []
    },
    {
      "cell_type": "code",
      "source": [
        "!cat blastp_res.fa | awk '{print $2}' > names.txt # 118 lines, but some preteins repeat"
      ],
      "metadata": {
        "id": "Z8aPx_orcLNQ"
      },
      "execution_count": null,
      "outputs": []
    },
    {
      "cell_type": "code",
      "source": [
        "!uniq -u names.txt > unique_names.txt # 97 unique proteins"
      ],
      "metadata": {
        "id": "IXtU0ktTmCbf"
      },
      "execution_count": null,
      "outputs": []
    },
    {
      "cell_type": "markdown",
      "source": [
        "We can also get sequenses for them:"
      ],
      "metadata": {
        "id": "kIOFxGKZgeuc"
      }
    },
    {
      "cell_type": "code",
      "source": [
        "!xargs samtools faidx augustus.whole.aa < unique_names.txt > interest.fa"
      ],
      "metadata": {
        "id": "b72TUhEcZifK"
      },
      "execution_count": null,
      "outputs": []
    },
    {
      "cell_type": "code",
      "source": [
        "!cat ./interest.fa | grep '>' | wc -l"
      ],
      "metadata": {
        "colab": {
          "base_uri": "https://localhost:8080/"
        },
        "id": "ShgT9SWociym",
        "outputId": "e46d7dd5-7a8b-490d-8cb3-06057c3b995a"
      },
      "execution_count": null,
      "outputs": [
        {
          "output_type": "stream",
          "name": "stdout",
          "text": [
            "97\n"
          ]
        }
      ]
    },
    {
      "cell_type": "code",
      "source": [
        "! cat unique_names.txt"
      ],
      "metadata": {
        "colab": {
          "base_uri": "https://localhost:8080/"
        },
        "id": "lQ_ha5E5wdc2",
        "outputId": "e46ce3b6-9980-46b2-8e08-503cee8b36ab"
      },
      "execution_count": null,
      "outputs": [
        {
          "output_type": "stream",
          "name": "stdout",
          "text": [
            "g5641.t1\n",
            "g15153.t1\n",
            "g5641.t1\n",
            "g12562.t1\n",
            "g5616.t1\n",
            "g15153.t1\n",
            "g12562.t1\n",
            "g5616.t1\n",
            "g702.t1\n",
            "g15153.t1\n",
            "g14472.t1\n",
            "g4106.t1\n",
            "g7861.t1\n",
            "g4970.t1\n",
            "g10513.t1\n",
            "g11806.t1\n",
            "g16318.t1\n",
            "g16368.t1\n",
            "g3428.t1\n",
            "g11513.t1\n",
            "g3428.t1\n",
            "g12562.t1\n",
            "g5443.t1\n",
            "g5502.t1\n",
            "g15153.t1\n",
            "g5503.t1\n",
            "g5467.t1\n",
            "g12562.t1\n",
            "g5641.t1\n",
            "g5616.t1\n",
            "g5503.t1\n",
            "g5502.t1\n",
            "g5510.t1\n",
            "g12510.t1\n",
            "g5237.t1\n",
            "g12510.t1\n",
            "g11320.t1\n",
            "g8312.t1\n",
            "g12510.t1\n",
            "g5927.t1\n",
            "g8100.t1\n",
            "g5641.t1\n",
            "g15153.t1\n",
            "g5641.t1\n",
            "g12562.t1\n",
            "g5616.t1\n",
            "g15153.t1\n",
            "g12562.t1\n",
            "g5502.t1\n",
            "g5641.t1\n",
            "g5503.t1\n",
            "g1285.t1\n",
            "g15153.t1\n",
            "g5616.t1\n",
            "g12388.t1\n",
            "g5467.t1\n",
            "g12562.t1\n",
            "g5641.t1\n",
            "g5616.t1\n",
            "g5503.t1\n",
            "g5502.t1\n",
            "g12562.t1\n",
            "g5502.t1\n",
            "g5641.t1\n",
            "g5503.t1\n",
            "g1285.t1\n",
            "g15153.t1\n",
            "g5616.t1\n",
            "g12388.t1\n",
            "g5467.t1\n",
            "g4106.t1\n",
            "g7861.t1\n",
            "g4970.t1\n",
            "g12562.t1\n",
            "g5443.t1\n",
            "g5502.t1\n",
            "g15153.t1\n",
            "g5503.t1\n",
            "g5467.t1\n",
            "g5641.t1\n",
            "g11960.t1\n",
            "g702.t1\n",
            "g10514.t1\n",
            "g2203.t1\n",
            "g10514.t1\n",
            "g5502.t1\n",
            "g5641.t1\n",
            "g5503.t1\n",
            "g1285.t1\n",
            "g15153.t1\n",
            "g5616.t1\n",
            "g12388.t1\n",
            "g5467.t1\n",
            "g3428.t1\n",
            "g11513.t1\n",
            "g3679.t1\n",
            "g5237.t1\n"
          ]
        }
      ]
    },
    {
      "cell_type": "markdown",
      "source": [
        "## Localization prediction\n",
        "\n",
        "### WoLF PSORT - subcellular localization of proteins"
      ],
      "metadata": {
        "id": "SCVUnQcRf0-v"
      }
    },
    {
      "cell_type": "markdown",
      "source": [
        "https://wolfpsort.hgc.jp/"
      ],
      "metadata": {
        "id": "O9WGRk5HjyHw"
      }
    },
    {
      "cell_type": "markdown",
      "source": [
        "See list of annotations here: \n",
        "https://docs.google.com/document/d/1MdtVUsnPFN4XjckDrM9Tjh6HzMC3Jl4m_I_mYBQlLRA/edit?usp=sharing "
      ],
      "metadata": {
        "id": "pXx5XUsCiD6H"
      }
    },
    {
      "cell_type": "markdown",
      "source": [
        "### TargetP 1.1 Server - also subcellular localization of eukaryotic proteins"
      ],
      "metadata": {
        "id": "wvJzozQLiPh3"
      }
    },
    {
      "cell_type": "markdown",
      "source": [
        "https://services.healthtech.dtu.dk/service.php?TargetP-2.0"
      ],
      "metadata": {
        "id": "VUuwzh2ij9J0"
      }
    },
    {
      "cell_type": "markdown",
      "source": [
        "Results: https://docs.google.com/document/d/1xb_mx1qtqqFWS92RL4FXl1B3IpFY3E95TUeaJEpPZtw/edit?usp=sharing "
      ],
      "metadata": {
        "id": "xzCFAdivjssg"
      }
    },
    {
      "cell_type": "markdown",
      "source": [],
      "metadata": {
        "id": "K7YTQ3gkj_k6"
      }
    },
    {
      "cell_type": "code",
      "source": [
        "wolf_res = \"g5641.t1 details extr: 31, lyso: 1 g15153.t1 details extr: 32 g5641.t1 details extr: 31, lyso: 1 g12562.t1 details extr: 30, lyso: 2 g5616.t1 details extr: 31, mito: 1 g15153.t1 details extr: 32 g12562.t1 details extr: 30, lyso: 2 g5616.t1 details extr: 31, mito: 1 g702.t1 details extr: 29, plas: 2, lyso: 1 g15153.t1 details extr: 32 g14472.t1 details nucl: 28, plas: 2, cyto: 1, cysk: 1 g4106.t1 details E.R.: 14.5, E.R._golg: 9.5, extr: 7, golg: 3.5, lyso: 3, pero: 2, plas: 1, mito: 1 g7861.t1 details nucl: 16, cyto_nucl: 14, cyto: 8, plas: 5, pero: 1, cysk: 1, golg: 1 g4970.t1 details plas: 32 g10513.t1 details nucl: 20, cyto_nucl: 14.5, cyto: 7, extr: 3, E.R.: 1, golg: 1 g11806.t1 details nucl: 18, cyto_nucl: 11.8333, mito: 5, extr: 4, cyto: 3.5, cyto_pero: 2.66667, cysk_plas: 1 g16318.t1 details nucl: 20.5, cyto_nucl: 13, extr: 5, cyto: 4.5, E.R.: 1, golg: 1 g16368.t1 details nucl: 20.5, cyto_nucl: 13, extr: 5, cyto: 4.5, E.R.: 1, golg: 1 g3428.t1 details mito: 18, cyto: 11, extr: 2, nucl: 1 g11513.t1 details cyto: 17, cyto_nucl: 12.8333, cyto_mito: 9.83333, nucl: 7.5, E.R.: 3, mito: 1.5, plas: 1, pero: 1, golg: 1 g3428.t1 details mito: 18, cyto: 11, extr: 2, nucl: 1 g12562.t1 details extr: 30, lyso: 2 g5443.t1 details extr: 28, nucl: 3, cyto: 1 g5502.t1 details extr: 31, lyso: 1 g15153.t1 details extr: 32 g5503.t1 details extr: 29, plas: 1, mito: 1, lyso: 1 g5467.t1 details extr: 27, plas: 4, mito: 1 g12562.t1 details extr: 30, lyso: 2 g5641.t1 details extr: 31, lyso: 1 g5616.t1 details extr: 31, mito: 1 g5503.t1 details extr: 29, plas: 1, mito: 1, lyso: 1 g5502.t1 details extr: 31, lyso: 1 g5510.t1 details plas: 23, mito: 7, E.R.: 1, golg: 1 g12510.t1 details plas: 29, cyto: 3 g5237.t1 details plas: 24, mito: 8 g12510.t1 details plas: 29, cyto: 3 g11320.t1 details plas: 24.5, extr_plas: 16, extr: 6.5, lyso: 1 g8312.t1 details nucl: 15.5, cyto_nucl: 15.5, cyto: 12.5, mito: 2, plas: 1, golg: 1 g12510.t1 details plas: 29, cyto: 3 g5927.t1 details nucl: 30.5, cyto_nucl: 16.5, cyto: 1.5 g8100.t1 details nucl: 16.5, cyto_nucl: 12.5, cyto: 7.5, plas: 5, extr: 2, E.R.: 1 g5641.t1 details extr: 31, lyso: 1 g15153.t1 details extr: 32 g5641.t1 details extr: 31, lyso: 1 g12562.t1 details extr: 30, lyso: 2 g5616.t1 details extr: 31, mito: 1 g15153.t1 details extr: 32 g12562.t1 details extr: 30, lyso: 2 g5502.t1 details extr: 31, lyso: 1 g5641.t1 details extr: 31, lyso: 1 g5503.t1 details extr: 29, plas: 1, mito: 1, lyso: 1 g1285.t1 details extr: 25, plas: 5, mito: 1, lyso: 1 g15153.t1 details extr: 32 g5616.t1 details extr: 31, mito: 1 g12388.t1 details extr: 25, plas: 4, mito: 2, lyso: 1 g5467.t1 details extr: 27, plas: 4, mito: 1 g12562.t1 details extr: 30, lyso: 2 g5641.t1 details extr: 31, lyso: 1 g5616.t1 details extr: 31, mito: 1 g5503.t1 details extr: 29, plas: 1, mito: 1, lyso: 1 g5502.t1 details extr: 31, lyso: 1 g12562.t1 details extr: 30, lyso: 2 g5502.t1 details extr: 31, lyso: 1 g5641.t1 details extr: 31, lyso: 1 g5503.t1 details extr: 29, plas: 1, mito: 1, lyso: 1 g1285.t1 details extr: 25, plas: 5, mito: 1, lyso: 1 g15153.t1 details extr: 32 g5616.t1 details extr: 31, mito: 1 g12388.t1 details extr: 25, plas: 4, mito: 2, lyso: 1 g5467.t1 details extr: 27, plas: 4, mito: 1 g4106.t1 details E.R.: 14.5, E.R._golg: 9.5, extr: 7, golg: 3.5, lyso: 3, pero: 2, plas: 1, mito: 1 g7861.t1 details nucl: 16, cyto_nucl: 14, cyto: 8, plas: 5, pero: 1, cysk: 1, golg: 1 g4970.t1 details plas: 32 g12562.t1 details extr: 30, lyso: 2 g5443.t1 details extr: 28, nucl: 3, cyto: 1 g5502.t1 details extr: 31, lyso: 1 g15153.t1 details extr: 32 g5503.t1 details extr: 29, plas: 1, mito: 1, lyso: 1 g5467.t1 details extr: 27, plas: 4, mito: 1 g5641.t1 details extr: 31, lyso: 1 g11960.t1 details nucl: 32 g702.t1 details extr: 29, plas: 2, lyso: 1 g10514.t1 details nucl: 19, cyto_nucl: 15, cyto: 9, extr: 3, mito: 1 g2203.t1 details plas: 29, nucl: 2, golg: 1 g10514.t1 details nucl: 19, cyto_nucl: 15, cyto: 9, extr: 3, mito: 1 g5502.t1 details extr: 31, lyso: 1 g5641.t1 details extr: 31, lyso: 1 g5503.t1 details extr: 29, plas: 1, mito: 1, lyso: 1 g1285.t1 details extr: 25, plas: 5, mito: 1, lyso: 1 g15153.t1 details extr: 32 g5616.t1 details extr: 31, mito: 1 g12388.t1 details extr: 25, plas: 4, mito: 2, lyso: 1 g5467.t1 details extr: 27, plas: 4, mito: 1 g3428.t1 details mito: 18, cyto: 11, extr: 2, nucl: 1 g11513.t1 details cyto: 17, cyto_nucl: 12.8333, cyto_mito: 9.83333, nucl: 7.5, E.R.: 3, mito: 1.5, plas: 1, pero: 1, golg: 1 g3679.t1 details extr: 26, mito: 2, lyso: 2, plas: 1, E.R.: 1 g5237.t1 details plas: 24, mito: 8\""
      ],
      "metadata": {
        "id": "Y_HXEr3qc1nf"
      },
      "execution_count": null,
      "outputs": []
    },
    {
      "cell_type": "code",
      "source": [
        "a = \"guujb g57776.t1 ,nkjklmklmk jk g4.t1 hbhb\"\n",
        "#re.split(r'(g[1-9]*.t1*)', a)\n",
        "#a.split(r'(g[1-9]*.t1)')"
      ],
      "metadata": {
        "id": "3qKQrhBZFb9G"
      },
      "execution_count": null,
      "outputs": []
    },
    {
      "cell_type": "code",
      "source": [
        "import re\n",
        "\n",
        "wolf_list = re.split(r'(g[0-9]*.t1*)', wolf_res)\n",
        "\n",
        "result = []\n",
        "for i in range(1, len(wolf_list)-1, 2):\n",
        "    print(wolf_list[i], wolf_list[i+1])\n",
        "    if \"nucl\" in wolf_list[i+1]:\n",
        "        result.append(wolf_list[i])\n",
        "\n",
        "for i in range(len(result)):\n",
        "    result[i] = \"g\"+str(result[i])\n",
        "\n",
        "gene_names = set()\n",
        "for gene in result:\n",
        "    gene_names.add(gene.split(\" \")[0])"
      ],
      "metadata": {
        "colab": {
          "base_uri": "https://localhost:8080/"
        },
        "id": "2oxX7hUuq-3v",
        "outputId": "9f520ad4-3a5c-4841-b76b-501a6a7ef315"
      },
      "execution_count": null,
      "outputs": [
        {
          "output_type": "stream",
          "name": "stdout",
          "text": [
            "g5641.t1  details extr: 31, lyso: 1 \n",
            "g15153.t1  details extr: 32 \n",
            "g5641.t1  details extr: 31, lyso: 1 \n",
            "g12562.t1  details extr: 30, lyso: 2 \n",
            "g5616.t1  details extr: 31, mito: 1 \n",
            "g15153.t1  details extr: 32 \n",
            "g12562.t1  details extr: 30, lyso: 2 \n",
            "g5616.t1  details extr: 31, mito: 1 \n",
            "g702.t1  details extr: 29, plas: 2, lyso: 1 \n",
            "g15153.t1  details extr: 32 \n",
            "g14472.t1  details nucl: 28, plas: 2, cyto: 1, cysk: 1 \n",
            "g4106.t1  details E.R.: 14.5, E.R._golg: 9.5, extr: 7, golg: 3.5, lyso: 3, pero: 2, plas: 1, mito: 1 \n",
            "g7861.t1  details nucl: 16, cyto_nucl: 14, cyto: 8, plas: 5, pero: 1, cysk: 1, golg: 1 \n",
            "g4970.t1  details plas: 32 \n",
            "g10513.t1  details nucl: 20, cyto_nucl: 14.5, cyto: 7, extr: 3, E.R.: 1, golg: 1 \n",
            "g11806.t1  details nucl: 18, cyto_nucl: 11.8333, mito: 5, extr: 4, cyto: 3.5, cyto_pero: 2.66667, cysk_plas: 1 \n",
            "g16318.t1  details nucl: 20.5, cyto_nucl: 13, extr: 5, cyto: 4.5, E.R.: 1, golg: 1 \n",
            "g16368.t1  details nucl: 20.5, cyto_nucl: 13, extr: 5, cyto: 4.5, E.R.: 1, golg: 1 \n",
            "g3428.t1  details mito: 18, cyto: 11, extr: 2, nucl: 1 \n",
            "g11513.t1  details cyto: 17, cyto_nucl: 12.8333, cyto_mito: 9.83333, nucl: 7.5, E.R.: 3, mito: 1.5, plas: 1, pero: 1, golg: 1 \n",
            "g3428.t1  details mito: 18, cyto: 11, extr: 2, nucl: 1 \n",
            "g12562.t1  details extr: 30, lyso: 2 \n",
            "g5443.t1  details extr: 28, nucl: 3, cyto: 1 \n",
            "g5502.t1  details extr: 31, lyso: 1 \n",
            "g15153.t1  details extr: 32 \n",
            "g5503.t1  details extr: 29, plas: 1, mito: 1, lyso: 1 \n",
            "g5467.t1  details extr: 27, plas: 4, mito: 1 \n",
            "g12562.t1  details extr: 30, lyso: 2 \n",
            "g5641.t1  details extr: 31, lyso: 1 \n",
            "g5616.t1  details extr: 31, mito: 1 \n",
            "g5503.t1  details extr: 29, plas: 1, mito: 1, lyso: 1 \n",
            "g5502.t1  details extr: 31, lyso: 1 \n",
            "g5510.t1  details plas: 23, mito: 7, E.R.: 1, golg: 1 \n",
            "g12510.t1  details plas: 29, cyto: 3 \n",
            "g5237.t1  details plas: 24, mito: 8 \n",
            "g12510.t1  details plas: 29, cyto: 3 \n",
            "g11320.t1  details plas: 24.5, extr_plas: 16, extr: 6.5, lyso: 1 \n",
            "g8312.t1  details nucl: 15.5, cyto_nucl: 15.5, cyto: 12.5, mito: 2, plas: 1, golg: 1 \n",
            "g12510.t1  details plas: 29, cyto: 3 \n",
            "g5927.t1  details nucl: 30.5, cyto_nucl: 16.5, cyto: 1.5 \n",
            "g8100.t1  details nucl: 16.5, cyto_nucl: 12.5, cyto: 7.5, plas: 5, extr: 2, E.R.: 1 \n",
            "g5641.t1  details extr: 31, lyso: 1 \n",
            "g15153.t1  details extr: 32 \n",
            "g5641.t1  details extr: 31, lyso: 1 \n",
            "g12562.t1  details extr: 30, lyso: 2 \n",
            "g5616.t1  details extr: 31, mito: 1 \n",
            "g15153.t1  details extr: 32 \n",
            "g12562.t1  details extr: 30, lyso: 2 \n",
            "g5502.t1  details extr: 31, lyso: 1 \n",
            "g5641.t1  details extr: 31, lyso: 1 \n",
            "g5503.t1  details extr: 29, plas: 1, mito: 1, lyso: 1 \n",
            "g1285.t1  details extr: 25, plas: 5, mito: 1, lyso: 1 \n",
            "g15153.t1  details extr: 32 \n",
            "g5616.t1  details extr: 31, mito: 1 \n",
            "g12388.t1  details extr: 25, plas: 4, mito: 2, lyso: 1 \n",
            "g5467.t1  details extr: 27, plas: 4, mito: 1 \n",
            "g12562.t1  details extr: 30, lyso: 2 \n",
            "g5641.t1  details extr: 31, lyso: 1 \n",
            "g5616.t1  details extr: 31, mito: 1 \n",
            "g5503.t1  details extr: 29, plas: 1, mito: 1, lyso: 1 \n",
            "g5502.t1  details extr: 31, lyso: 1 \n",
            "g12562.t1  details extr: 30, lyso: 2 \n",
            "g5502.t1  details extr: 31, lyso: 1 \n",
            "g5641.t1  details extr: 31, lyso: 1 \n",
            "g5503.t1  details extr: 29, plas: 1, mito: 1, lyso: 1 \n",
            "g1285.t1  details extr: 25, plas: 5, mito: 1, lyso: 1 \n",
            "g15153.t1  details extr: 32 \n",
            "g5616.t1  details extr: 31, mito: 1 \n",
            "g12388.t1  details extr: 25, plas: 4, mito: 2, lyso: 1 \n",
            "g5467.t1  details extr: 27, plas: 4, mito: 1 \n",
            "g4106.t1  details E.R.: 14.5, E.R._golg: 9.5, extr: 7, golg: 3.5, lyso: 3, pero: 2, plas: 1, mito: 1 \n",
            "g7861.t1  details nucl: 16, cyto_nucl: 14, cyto: 8, plas: 5, pero: 1, cysk: 1, golg: 1 \n",
            "g4970.t1  details plas: 32 \n",
            "g12562.t1  details extr: 30, lyso: 2 \n",
            "g5443.t1  details extr: 28, nucl: 3, cyto: 1 \n",
            "g5502.t1  details extr: 31, lyso: 1 \n",
            "g15153.t1  details extr: 32 \n",
            "g5503.t1  details extr: 29, plas: 1, mito: 1, lyso: 1 \n",
            "g5467.t1  details extr: 27, plas: 4, mito: 1 \n",
            "g5641.t1  details extr: 31, lyso: 1 \n",
            "g11960.t1  details nucl: 32 \n",
            "g702.t1  details extr: 29, plas: 2, lyso: 1 \n",
            "g10514.t1  details nucl: 19, cyto_nucl: 15, cyto: 9, extr: 3, mito: 1 \n",
            "g2203.t1  details plas: 29, nucl: 2, golg: 1 \n",
            "g10514.t1  details nucl: 19, cyto_nucl: 15, cyto: 9, extr: 3, mito: 1 \n",
            "g5502.t1  details extr: 31, lyso: 1 \n",
            "g5641.t1  details extr: 31, lyso: 1 \n",
            "g5503.t1  details extr: 29, plas: 1, mito: 1, lyso: 1 \n",
            "g1285.t1  details extr: 25, plas: 5, mito: 1, lyso: 1 \n",
            "g15153.t1  details extr: 32 \n",
            "g5616.t1  details extr: 31, mito: 1 \n",
            "g12388.t1  details extr: 25, plas: 4, mito: 2, lyso: 1 \n",
            "g5467.t1  details extr: 27, plas: 4, mito: 1 \n",
            "g3428.t1  details mito: 18, cyto: 11, extr: 2, nucl: 1 \n",
            "g11513.t1  details cyto: 17, cyto_nucl: 12.8333, cyto_mito: 9.83333, nucl: 7.5, E.R.: 3, mito: 1.5, plas: 1, pero: 1, golg: 1 \n",
            "g3679.t1  details extr: 26, mito: 2, lyso: 2, plas: 1, E.R.: 1 \n",
            "g5237.t1  details plas: 24, mito: 8\n"
          ]
        }
      ]
    },
    {
      "cell_type": "code",
      "source": [
        "for gene in sorted(gene_names):\n",
        "    print(gene)"
      ],
      "metadata": {
        "colab": {
          "base_uri": "https://localhost:8080/"
        },
        "id": "bU6HDIz7rU8B",
        "outputId": "ce976120-bf4c-4476-d3a9-8f11944b89fd"
      },
      "execution_count": null,
      "outputs": [
        {
          "output_type": "stream",
          "name": "stdout",
          "text": [
            "gg10513.t1\n",
            "gg10514.t1\n",
            "gg11513.t1\n",
            "gg11806.t1\n",
            "gg11960.t1\n",
            "gg14472.t1\n",
            "gg16318.t1\n",
            "gg16368.t1\n",
            "gg2203.t1\n",
            "gg3428.t1\n",
            "gg5443.t1\n",
            "gg5927.t1\n",
            "gg7861.t1\n",
            "gg8100.t1\n",
            "gg8312.t1\n"
          ]
        }
      ]
    },
    {
      "cell_type": "code",
      "source": [
        "len(gene_names)"
      ],
      "metadata": {
        "colab": {
          "base_uri": "https://localhost:8080/"
        },
        "id": "4f4QAFEUr4r-",
        "outputId": "e9493099-776c-48fb-dedd-db932bb7c2c3"
      },
      "execution_count": null,
      "outputs": [
        {
          "output_type": "execute_result",
          "data": {
            "text/plain": [
              "15"
            ]
          },
          "metadata": {},
          "execution_count": 91
        }
      ]
    },
    {
      "cell_type": "code",
      "source": [
        "!xargs samtools faidx augustus.whole.aa < set_genes_wolf.txt > wolf.fa"
      ],
      "metadata": {
        "colab": {
          "base_uri": "https://localhost:8080/"
        },
        "id": "HshZqHGmxIkO",
        "outputId": "86b01cf0-87f3-4d8a-b76c-689c0db7c7a3"
      },
      "execution_count": 1,
      "outputs": [
        {
          "output_type": "stream",
          "name": "stdout",
          "text": [
            "/bin/bash: set_genes_wolf.txt: No such file or directory\n"
          ]
        }
      ]
    },
    {
      "cell_type": "code",
      "source": [],
      "metadata": {
        "id": "Coi-DFhUzmUO"
      },
      "execution_count": null,
      "outputs": []
    }
  ]
}