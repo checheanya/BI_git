{
  "nbformat": 4,
  "nbformat_minor": 0,
  "metadata": {
    "colab": {
      "provenance": [],
      "collapsed_sections": [
        "QLwZ1aIS_Z6M",
        "VnMZCxnOQo-5",
        "fAtHI1tfX1Xu"
      ]
    },
    "kernelspec": {
      "name": "python3",
      "display_name": "Python 3"
    },
    "language_info": {
      "name": "python"
    }
  },
  "cells": [
    {
      "cell_type": "markdown",
      "source": [
        "## Project 6. RNA-seq, differential RNA expression analysis"
      ],
      "metadata": {
        "id": "zHNnGykT_BF6"
      }
    },
    {
      "cell_type": "markdown",
      "source": [
        "### Loading data\n",
        "\n",
        "\n",
        "Raw reads from the EBI SRA database:"
      ],
      "metadata": {
        "id": "QLwZ1aIS_Z6M"
      }
    },
    {
      "cell_type": "code",
      "execution_count": 1,
      "metadata": {
        "id": "d2wPW7Oa69zO",
        "colab": {
          "base_uri": "https://localhost:8080/"
        },
        "outputId": "c118b0ba-dbd3-404e-dd6c-7bf4e332bfd0"
      },
      "outputs": [
        {
          "output_type": "stream",
          "name": "stdout",
          "text": [
            "--2023-02-28 07:18:38--  http://ftp.sra.ebi.ac.uk/vol1/fastq/SRR941/SRR941816/SRR941816.fastq.gz\n",
            "Resolving ftp.sra.ebi.ac.uk (ftp.sra.ebi.ac.uk)... 193.62.193.138\n",
            "Connecting to ftp.sra.ebi.ac.uk (ftp.sra.ebi.ac.uk)|193.62.193.138|:80... connected.\n",
            "HTTP request sent, awaiting response... 200 OK\n",
            "Length: 433539958 (413M) [application/x-gzip]\n",
            "Saving to: ‘SRR941816.fastq.gz’\n",
            "\n",
            "SRR941816.fastq.gz  100%[===================>] 413.46M   700KB/s    in 10m 17s \n",
            "\n",
            "2023-02-28 07:28:58 (686 KB/s) - ‘SRR941816.fastq.gz’ saved [433539958/433539958]\n",
            "\n"
          ]
        }
      ],
      "source": [
        "!wget http://ftp.sra.ebi.ac.uk/vol1/fastq/SRR941/SRR941816/SRR941816.fastq.gz"
      ]
    },
    {
      "cell_type": "code",
      "source": [
        "!wget http://ftp.sra.ebi.ac.uk/vol1/fastq/SRR941/SRR941817/SRR941817.fastq.gz"
      ],
      "metadata": {
        "colab": {
          "base_uri": "https://localhost:8080/"
        },
        "id": "yGLvjBIR_AbB",
        "outputId": "9bad5129-b823-4d41-d41b-d82f8e2c4c00"
      },
      "execution_count": 2,
      "outputs": [
        {
          "output_type": "stream",
          "name": "stdout",
          "text": [
            "--2023-02-28 07:28:58--  http://ftp.sra.ebi.ac.uk/vol1/fastq/SRR941/SRR941817/SRR941817.fastq.gz\n",
            "Resolving ftp.sra.ebi.ac.uk (ftp.sra.ebi.ac.uk)... 193.62.193.138\n",
            "Connecting to ftp.sra.ebi.ac.uk (ftp.sra.ebi.ac.uk)|193.62.193.138|:80... connected.\n",
            "HTTP request sent, awaiting response... 200 OK\n",
            "Length: 477099436 (455M) [application/x-gzip]\n",
            "Saving to: ‘SRR941817.fastq.gz’\n",
            "\n",
            "SRR941817.fastq.gz  100%[===================>] 455.00M   684KB/s    in 11m 43s \n",
            "\n",
            "2023-02-28 07:40:53 (662 KB/s) - ‘SRR941817.fastq.gz’ saved [477099436/477099436]\n",
            "\n"
          ]
        }
      ]
    },
    {
      "cell_type": "code",
      "source": [
        "!wget http://ftp.sra.ebi.ac.uk/vol1/fastq/SRR941/SRR941818/SRR941818.fastq.gz"
      ],
      "metadata": {
        "colab": {
          "base_uri": "https://localhost:8080/"
        },
        "id": "2m_1xqAe1-Km",
        "outputId": "874e7e6e-df0e-43a6-d2c5-d45d3d059f74"
      },
      "execution_count": 3,
      "outputs": [
        {
          "output_type": "stream",
          "name": "stdout",
          "text": [
            "--2023-02-28 07:40:53--  http://ftp.sra.ebi.ac.uk/vol1/fastq/SRR941/SRR941818/SRR941818.fastq.gz\n",
            "Resolving ftp.sra.ebi.ac.uk (ftp.sra.ebi.ac.uk)... 193.62.193.138\n",
            "Connecting to ftp.sra.ebi.ac.uk (ftp.sra.ebi.ac.uk)|193.62.193.138|:80... connected.\n",
            "HTTP request sent, awaiting response... 200 OK\n",
            "Length: 83133773 (79M) [application/x-gzip]\n",
            "Saving to: ‘SRR941818.fastq.gz’\n",
            "\n",
            "SRR941818.fastq.gz  100%[===================>]  79.28M   301KB/s    in 2m 7s   \n",
            "\n",
            "2023-02-28 07:43:02 (639 KB/s) - ‘SRR941818.fastq.gz’ saved [83133773/83133773]\n",
            "\n"
          ]
        }
      ]
    },
    {
      "cell_type": "code",
      "source": [
        "!wget http://ftp.sra.ebi.ac.uk/vol1/fastq/SRR941/SRR941819/SRR941819.fastq.gz"
      ],
      "metadata": {
        "id": "xVuKos6w2FZs"
      },
      "execution_count": null,
      "outputs": []
    },
    {
      "cell_type": "markdown",
      "source": [
        "Reference genome  and annotation:"
      ],
      "metadata": {
        "id": "a1kh9QEQ4yqb"
      }
    },
    {
      "cell_type": "code",
      "source": [
        "!wget http://ftp.ncbi.nlm.nih.gov/genomes/all/GCF/000/146/045/GCF_000146045.2_R64/GCF_000146045.2_R64_genomic.fna.gz"
      ],
      "metadata": {
        "colab": {
          "base_uri": "https://localhost:8080/"
        },
        "id": "QerlrRFJ2LZS",
        "outputId": "7a9dc264-601c-40c5-b053-a24458df2be8"
      },
      "execution_count": 5,
      "outputs": [
        {
          "output_type": "stream",
          "name": "stdout",
          "text": [
            "--2023-02-28 07:50:03--  http://ftp.ncbi.nlm.nih.gov/genomes/all/GCF/000/146/045/GCF_000146045.2_R64/GCF_000146045.2_R64_genomic.fna.gz\n",
            "Resolving ftp.ncbi.nlm.nih.gov (ftp.ncbi.nlm.nih.gov)... 130.14.250.7, 130.14.250.10, 2607:f220:41f:250::230, ...\n",
            "Connecting to ftp.ncbi.nlm.nih.gov (ftp.ncbi.nlm.nih.gov)|130.14.250.7|:80... connected.\n",
            "HTTP request sent, awaiting response... 301 Moved Permanently\n",
            "Location: https://ftp.ncbi.nlm.nih.gov/genomes/all/GCF/000/146/045/GCF_000146045.2_R64/GCF_000146045.2_R64_genomic.fna.gz [following]\n",
            "--2023-02-28 07:50:03--  https://ftp.ncbi.nlm.nih.gov/genomes/all/GCF/000/146/045/GCF_000146045.2_R64/GCF_000146045.2_R64_genomic.fna.gz\n",
            "Connecting to ftp.ncbi.nlm.nih.gov (ftp.ncbi.nlm.nih.gov)|130.14.250.7|:443... connected.\n",
            "HTTP request sent, awaiting response... 200 OK\n",
            "Length: 3843460 (3.7M) [application/x-gzip]\n",
            "Saving to: ‘GCF_000146045.2_R64_genomic.fna.gz’\n",
            "\n",
            "GCF_000146045.2_R64 100%[===================>]   3.67M  7.92MB/s    in 0.5s    \n",
            "\n",
            "2023-02-28 07:50:04 (7.92 MB/s) - ‘GCF_000146045.2_R64_genomic.fna.gz’ saved [3843460/3843460]\n",
            "\n"
          ]
        }
      ]
    },
    {
      "cell_type": "code",
      "source": [
        "!wget http://ftp.ncbi.nlm.nih.gov/genomes/all/GCF/000/146/045/GCF_000146045.2_R64/GCF_000146045.2_R64_genomic.gff.gz"
      ],
      "metadata": {
        "colab": {
          "base_uri": "https://localhost:8080/"
        },
        "id": "L4XBgoq72QkN",
        "outputId": "31beb597-5580-4b97-90c9-0c3389c136bb"
      },
      "execution_count": 28,
      "outputs": [
        {
          "output_type": "stream",
          "name": "stdout",
          "text": [
            "URL transformed to HTTPS due to an HSTS policy\n",
            "--2023-02-28 08:36:51--  https://ftp.ncbi.nlm.nih.gov/genomes/all/GCF/000/146/045/GCF_000146045.2_R64/GCF_000146045.2_R64_genomic.gff.gz\n",
            "Resolving ftp.ncbi.nlm.nih.gov (ftp.ncbi.nlm.nih.gov)... 130.14.250.7, 130.14.250.10, 2607:f220:41f:250::229, ...\n",
            "Connecting to ftp.ncbi.nlm.nih.gov (ftp.ncbi.nlm.nih.gov)|130.14.250.7|:443... connected.\n",
            "HTTP request sent, awaiting response... 200 OK\n",
            "Length: 2183228 (2.1M) [application/x-gzip]\n",
            "Saving to: ‘GCF_000146045.2_R64_genomic.gff.gz.1’\n",
            "\n",
            "\r          GCF_00014   0%[                    ]       0  --.-KB/s               \rGCF_000146045.2_R64 100%[===================>]   2.08M  --.-KB/s    in 0.1s    \n",
            "\n",
            "2023-02-28 08:36:51 (19.3 MB/s) - ‘GCF_000146045.2_R64_genomic.gff.gz.1’ saved [2183228/2183228]\n",
            "\n"
          ]
        }
      ]
    },
    {
      "cell_type": "markdown",
      "source": [
        "### Aligning with HISAT2"
      ],
      "metadata": {
        "id": "8Qqnqe8-575w"
      }
    },
    {
      "cell_type": "markdown",
      "source": [
        "Installing HISAT2:"
      ],
      "metadata": {
        "id": "GKjDAl8_G0lx"
      }
    },
    {
      "cell_type": "code",
      "source": [
        "!wget ftp://ftp.ccb.jhu.edu/pub/infphilo/hisat2/downloads/hisat2-2.0.4-Linux_x86_64.zip"
      ],
      "metadata": {
        "colab": {
          "base_uri": "https://localhost:8080/"
        },
        "id": "6JbDB0tL4x7O",
        "outputId": "c127239a-ce75-42e7-e54d-bba63cc16b9f"
      },
      "execution_count": 11,
      "outputs": [
        {
          "output_type": "stream",
          "name": "stdout",
          "text": [
            "--2023-02-28 08:27:32--  ftp://ftp.ccb.jhu.edu/pub/infphilo/hisat2/downloads/hisat2-2.0.4-Linux_x86_64.zip\n",
            "           => ‘hisat2-2.0.4-Linux_x86_64.zip’\n",
            "Resolving ftp.ccb.jhu.edu (ftp.ccb.jhu.edu)... 128.220.174.63\n",
            "Connecting to ftp.ccb.jhu.edu (ftp.ccb.jhu.edu)|128.220.174.63|:21... connected.\n",
            "Logging in as anonymous ... Logged in!\n",
            "==> SYST ... done.    ==> PWD ... done.\n",
            "==> TYPE I ... done.  ==> CWD (1) /pub/infphilo/hisat2/downloads ... done.\n",
            "==> SIZE hisat2-2.0.4-Linux_x86_64.zip ... 33458617\n",
            "==> PASV ... done.    ==> RETR hisat2-2.0.4-Linux_x86_64.zip ... done.\n",
            "Length: 33458617 (32M) (unauthoritative)\n",
            "\n",
            "hisat2-2.0.4-Linux_ 100%[===================>]  31.91M  52.7MB/s    in 0.6s    \n",
            "\n",
            "2023-02-28 08:27:33 (52.7 MB/s) - ‘hisat2-2.0.4-Linux_x86_64.zip’ saved [33458617]\n",
            "\n"
          ]
        }
      ]
    },
    {
      "cell_type": "code",
      "source": [
        "!unzip hisat2-2.0.4-Linux_x86_64.zip"
      ],
      "metadata": {
        "id": "oGP6oriJHMiL"
      },
      "execution_count": null,
      "outputs": []
    },
    {
      "cell_type": "code",
      "source": [
        "!/content/hisat2-2.0.4/hisat2-build -h"
      ],
      "metadata": {
        "colab": {
          "base_uri": "https://localhost:8080/"
        },
        "id": "O8vNofu8IsBl",
        "outputId": "721f1162-52d6-41d3-db84-ecea6ed81b9a"
      },
      "execution_count": 22,
      "outputs": [
        {
          "output_type": "stream",
          "name": "stdout",
          "text": [
            "HISAT2 version 2.0.4 by Daehwan Kim (infphilo@gmail.com, http://www.ccb.jhu.edu/people/infphilo)\n",
            "Usage: hisat2-build [options]* <reference_in> <bt2_index_base>\n",
            "    reference_in            comma-separated list of files with ref sequences\n",
            "    hisat2_index_base          write ht2 data to files with this dir/basename\n",
            "Options:\n",
            "    -c                      reference sequences given on cmd line (as\n",
            "                            <reference_in>)\n",
            "    --large-index           force generated index to be 'large', even if ref\n",
            "                            has fewer than 4 billion nucleotides\n",
            "    -a/--noauto             disable automatic -p/--bmax/--dcv memory-fitting\n",
            "    -p                      number of threads\n",
            "    --bmax <int>            max bucket sz for blockwise suffix-array builder\n",
            "    --bmaxdivn <int>        max bucket sz as divisor of ref len (default: 4)\n",
            "    --dcv <int>             diff-cover period for blockwise (default: 1024)\n",
            "    --nodc                  disable diff-cover (algorithm becomes quadratic)\n",
            "    -r/--noref              don't build .3/.4.bt2 (packed reference) portion\n",
            "    -3/--justref            just build .3/.4.bt2 (packed reference) portion\n",
            "    -o/--offrate <int>      SA is sampled every 2^offRate BWT chars (default: 5)\n",
            "    -t/--ftabchars <int>    # of chars consumed in initial lookup (default: 10)\n",
            "    --localoffrate <int>    SA (local) is sampled every 2^offRate BWT chars (default: 3)\n",
            "    --localftabchars <int>  # of chars consumed in initial lookup in a local index (default: 6)\n",
            "    --snp <path>            SNP file name\n",
            "    --haplotype <path>      haplotype file name\n",
            "    --ss <path>             Splice site file name\n",
            "    --exon <path>           Exon file name\n",
            "    --seed <int>            seed for random number generator\n",
            "    -q/--quiet              verbose output (for debugging)\n",
            "    -h/--help               print detailed description of tool and its options\n",
            "    --usage                 print this usage message\n",
            "    --version               print version information and quit\n"
          ]
        }
      ]
    },
    {
      "cell_type": "markdown",
      "source": [
        "Indexing the reference genome:"
      ],
      "metadata": {
        "id": "uyyUTWYw7O2d"
      }
    },
    {
      "cell_type": "code",
      "source": [
        "!gunzip GCF_000146045.2_R64_genomic.fna.gz"
      ],
      "metadata": {
        "id": "HHuPwtkoJxa7"
      },
      "execution_count": 30,
      "outputs": []
    },
    {
      "cell_type": "code",
      "source": [
        "!/content/hisat2-2.0.4/hisat2-build /content/GCF_000146045.2_R64_genomic.fna genome_index"
      ],
      "metadata": {
        "colab": {
          "base_uri": "https://localhost:8080/"
        },
        "id": "dU7vI6UQ7MEf",
        "outputId": "a231e33b-a98d-4260-b899-8945083aec31"
      },
      "execution_count": 31,
      "outputs": [
        {
          "output_type": "stream",
          "name": "stdout",
          "text": [
            "Settings:\n",
            "  Output files: \"genome_index.*.ht2\"\n",
            "  Line rate: 6 (line is 64 bytes)\n",
            "  Lines per side: 1 (side is 64 bytes)\n",
            "  Offset rate: 4 (one in 16)\n",
            "  FTable chars: 10\n",
            "  Strings: unpacked\n",
            "  Local offset rate: 3 (one in 8)\n",
            "  Local fTable chars: 6\n",
            "  Local sequence length: 57344\n",
            "  Local sequence overlap between two consecutive indexes: 1024\n",
            "  Endianness: little\n",
            "  Actual local endianness: little\n",
            "  Sanity checking: disabled\n",
            "  Assertions: disabled\n",
            "  Random seed: 0\n",
            "  Sizeofs: void*:8, int:4, long:8, size_t:8\n",
            "Input files DNA, FASTA:\n",
            "  /content/GCF_000146045.2_R64_genomic.fna\n",
            "Reading reference sizes\n",
            "  Time reading reference sizes: 00:00:00\n",
            "Calculating joined length\n",
            "Writing header\n",
            "Reserving space for joined string\n",
            "Joining reference sequences\n",
            "  Time to join reference sequences: 00:00:00\n",
            "  Time to read SNPs and splice sites: 00:00:00\n",
            "Using parameters --bmax 2279457 --dcv 1024\n",
            "  Doing ahead-of-time memory usage test\n",
            "  Passed!  Constructing with these parameters: --bmax 2279457 --dcv 1024\n",
            "Constructing suffix-array element generator\n",
            "Building DifferenceCoverSample\n",
            "  Building sPrime\n",
            "  Building sPrimeOrder\n",
            "  V-Sorting samples\n",
            "  V-Sorting samples time: 00:00:00\n",
            "  Allocating rank array\n",
            "  Ranking v-sort output\n",
            "  Ranking v-sort output time: 00:00:00\n",
            "  Invoking Larsson-Sadakane on ranks\n",
            "  Invoking Larsson-Sadakane on ranks time: 00:00:00\n",
            "  Sanity-checking and returning\n",
            "Building samples\n",
            "Reserving space for 12 sample suffixes\n",
            "Generating random suffixes\n",
            "QSorting 12 sample offsets, eliminating duplicates\n",
            "QSorting sample offsets, eliminating duplicates time: 00:00:00\n",
            "Multikey QSorting 12 samples\n",
            "  (Using difference cover)\n",
            "  Multikey QSorting samples time: 00:00:00\n",
            "Calculating bucket sizes\n",
            "Splitting and merging\n",
            "  Splitting and merging time: 00:00:00\n",
            "Avg bucket size: 1.73673e+06 (target: 2279456)\n",
            "Converting suffix-array elements to index image\n",
            "Allocating ftab, absorbFtab\n",
            "Entering GFM loop\n",
            "Getting block 1 of 7\n",
            "  Reserving size (2279457) for bucket 1\n",
            "  Calculating Z arrays for bucket 1\n",
            "  Entering block accumulator loop for bucket 1:\n",
            "  bucket 1: 10%\n",
            "  bucket 1: 20%\n",
            "  bucket 1: 30%\n",
            "  bucket 1: 40%\n",
            "  bucket 1: 50%\n",
            "  bucket 1: 60%\n",
            "  bucket 1: 70%\n",
            "  bucket 1: 80%\n",
            "  bucket 1: 90%\n",
            "  bucket 1: 100%\n",
            "  Sorting block of length 1917483 for bucket 1\n",
            "  (Using difference cover)\n",
            "  Sorting block time: 00:00:01\n",
            "Returning block of 1917484 for bucket 1\n",
            "Getting block 2 of 7\n",
            "  Reserving size (2279457) for bucket 2\n",
            "  Calculating Z arrays for bucket 2\n",
            "  Entering block accumulator loop for bucket 2:\n",
            "  bucket 2: 10%\n",
            "  bucket 2: 20%\n",
            "  bucket 2: 30%\n",
            "  bucket 2: 40%\n",
            "  bucket 2: 50%\n",
            "  bucket 2: 60%\n",
            "  bucket 2: 70%\n",
            "  bucket 2: 80%\n",
            "  bucket 2: 90%\n",
            "  bucket 2: 100%\n",
            "  Sorting block of length 1565107 for bucket 2\n",
            "  (Using difference cover)\n",
            "  Sorting block time: 00:00:01\n",
            "Returning block of 1565108 for bucket 2\n",
            "Getting block 3 of 7\n",
            "  Reserving size (2279457) for bucket 3\n",
            "  Calculating Z arrays for bucket 3\n",
            "  Entering block accumulator loop for bucket 3:\n",
            "  bucket 3: 10%\n",
            "  bucket 3: 20%\n",
            "  bucket 3: 30%\n",
            "  bucket 3: 40%\n",
            "  bucket 3: 50%\n",
            "  bucket 3: 60%\n",
            "  bucket 3: 70%\n",
            "  bucket 3: 80%\n",
            "  bucket 3: 90%\n",
            "  bucket 3: 100%\n",
            "  Sorting block of length 2077071 for bucket 3\n",
            "  (Using difference cover)\n",
            "  Sorting block time: 00:00:01\n",
            "Returning block of 2077072 for bucket 3\n",
            "Getting block 4 of 7\n",
            "  Reserving size (2279457) for bucket 4\n",
            "  Calculating Z arrays for bucket 4\n",
            "  Entering block accumulator loop for bucket 4:\n",
            "  bucket 4: 10%\n",
            "  bucket 4: 20%\n",
            "  bucket 4: 30%\n",
            "  bucket 4: 40%\n",
            "  bucket 4: 50%\n",
            "  bucket 4: 60%\n",
            "  bucket 4: 70%\n",
            "  bucket 4: 80%\n",
            "  bucket 4: 90%\n",
            "  bucket 4: 100%\n",
            "  Sorting block of length 1959963 for bucket 4\n",
            "  (Using difference cover)\n",
            "  Sorting block time: 00:00:01\n",
            "Returning block of 1959964 for bucket 4\n",
            "Getting block 5 of 7\n",
            "  Reserving size (2279457) for bucket 5\n",
            "  Calculating Z arrays for bucket 5\n",
            "  Entering block accumulator loop for bucket 5:\n",
            "  bucket 5: 10%\n",
            "  bucket 5: 20%\n",
            "  bucket 5: 30%\n",
            "  bucket 5: 40%\n",
            "  bucket 5: 50%\n",
            "  bucket 5: 60%\n",
            "  bucket 5: 70%\n",
            "  bucket 5: 80%\n",
            "  bucket 5: 90%\n",
            "  bucket 5: 100%\n",
            "  Sorting block of length 1858740 for bucket 5\n",
            "  (Using difference cover)\n",
            "  Sorting block time: 00:00:00\n",
            "Returning block of 1858741 for bucket 5\n",
            "Getting block 6 of 7\n",
            "  Reserving size (2279457) for bucket 6\n",
            "  Calculating Z arrays for bucket 6\n",
            "  Entering block accumulator loop for bucket 6:\n",
            "  bucket 6: 10%\n",
            "  bucket 6: 20%\n",
            "  bucket 6: 30%\n",
            "  bucket 6: 40%\n",
            "  bucket 6: 50%\n",
            "  bucket 6: 60%\n",
            "  bucket 6: 70%\n",
            "  bucket 6: 80%\n",
            "  bucket 6: 90%\n",
            "  bucket 6: 100%\n",
            "  Sorting block of length 630502 for bucket 6\n",
            "  (Using difference cover)\n",
            "  Sorting block time: 00:00:00\n",
            "Returning block of 630503 for bucket 6\n",
            "Getting block 7 of 7\n",
            "  Reserving size (2279457) for bucket 7\n",
            "  Calculating Z arrays for bucket 7\n",
            "  Entering block accumulator loop for bucket 7:\n",
            "  bucket 7: 10%\n",
            "  bucket 7: 20%\n",
            "  bucket 7: 30%\n",
            "  bucket 7: 40%\n",
            "  bucket 7: 50%\n",
            "  bucket 7: 60%\n",
            "  bucket 7: 70%\n",
            "  bucket 7: 80%\n",
            "  bucket 7: 90%\n",
            "  bucket 7: 100%\n",
            "  Sorting block of length 2148233 for bucket 7\n",
            "  (Using difference cover)\n",
            "  Sorting block time: 00:00:01\n",
            "Returning block of 2148234 for bucket 7\n",
            "Exited GFM loop\n",
            "fchr[A]: 0\n",
            "fchr[C]: 3766349\n",
            "fchr[G]: 6086925\n",
            "fchr[T]: 8404025\n",
            "fchr[$]: 12157105\n",
            "Exiting GFM::buildToDisk()\n",
            "Returning from initFromVector\n",
            "Wrote 8248454 bytes to primary GFM file: genome_index.1.ht2\n",
            "Wrote 3039284 bytes to secondary GFM file: genome_index.2.ht2\n",
            "Re-opening _in1 and _in2 as input streams\n",
            "Returning from GFM constructor\n",
            "Returning from initFromVector\n",
            "Wrote 5399069 bytes to primary GFM file: genome_index.5.ht2\n",
            "Wrote 3092708 bytes to secondary GFM file: genome_index.6.ht2\n",
            "Re-opening _in5 and _in5 as input streams\n",
            "Returning from HierEbwt constructor\n",
            "Headers:\n",
            "    len: 12157105\n",
            "    gbwtLen: 12157106\n",
            "    nodes: 12157106\n",
            "    sz: 3039277\n",
            "    gbwtSz: 3039277\n",
            "    lineRate: 6\n",
            "    offRate: 4\n",
            "    offMask: 0xfffffff0\n",
            "    ftabChars: 10\n",
            "    eftabLen: 0\n",
            "    eftabSz: 0\n",
            "    ftabLen: 1048577\n",
            "    ftabSz: 4194308\n",
            "    offsLen: 759820\n",
            "    offsSz: 3039280\n",
            "    lineSz: 64\n",
            "    sideSz: 64\n",
            "    sideGbwtSz: 48\n",
            "    sideGbwtLen: 192\n",
            "    numSides: 63319\n",
            "    numLines: 63319\n",
            "    gbwtTotLen: 4052416\n",
            "    gbwtTotSz: 4052416\n",
            "    reverse: 0\n",
            "    linearFM: Yes\n",
            "Total time for call to driver() for forward index: 00:00:19\n"
          ]
        }
      ]
    },
    {
      "cell_type": "markdown",
      "source": [
        "Running HISAT2 for our RNA-seq files:"
      ],
      "metadata": {
        "id": "Hu2tT9raLLnj"
      }
    },
    {
      "cell_type": "code",
      "source": [
        "!apt-get install samtools"
      ],
      "metadata": {
        "colab": {
          "base_uri": "https://localhost:8080/"
        },
        "id": "ZDkcktUpMTEy",
        "outputId": "3bc6dcf9-c6bf-4d13-bb4c-7a0d55c979b3"
      },
      "execution_count": 32,
      "outputs": [
        {
          "output_type": "stream",
          "name": "stdout",
          "text": [
            "Reading package lists... Done\n",
            "Building dependency tree       \n",
            "Reading state information... Done\n",
            "The following additional packages will be installed:\n",
            "  cwltool fonts-glyphicons-halflings libc-ares2 libhts3 libjs-bootstrap\n",
            "  libnode64 nodejs nodejs-doc python3-bs4 python3-cachecontrol\n",
            "  python3-coloredlogs python3-dateutil python3-decorator python3-html5lib\n",
            "  python3-humanfriendly python3-isodate python3-lockfile python3-lxml\n",
            "  python3-mistune python3-msgpack python3-mypy-extensions python3-networkx\n",
            "  python3-prov python3-psutil python3-pyparsing python3-rdflib\n",
            "  python3-rdflib-jsonld python3-ruamel.yaml python3-schema-salad\n",
            "  python3-shellescape python3-soupsieve python3-sparqlwrapper\n",
            "  python3-typing-extensions python3-webencodings python3-yaml\n",
            "Suggested packages:\n",
            "  docker.io | singularity-container npm python3-genshi python-lockfile-doc\n",
            "  python3-lxml-dbg python-lxml-doc python-networkx-doc python3-matplotlib\n",
            "  python3-pygraphviz | python3-pydot python3-scipy python-prov-doc\n",
            "  python3-pydot python-psutil-doc python-pyparsing-doc python-rdflib-doc\n",
            "The following NEW packages will be installed:\n",
            "  cwltool fonts-glyphicons-halflings libc-ares2 libhts3 libjs-bootstrap\n",
            "  libnode64 nodejs nodejs-doc python3-bs4 python3-cachecontrol\n",
            "  python3-coloredlogs python3-dateutil python3-decorator python3-html5lib\n",
            "  python3-humanfriendly python3-isodate python3-lockfile python3-lxml\n",
            "  python3-mistune python3-msgpack python3-mypy-extensions python3-networkx\n",
            "  python3-prov python3-psutil python3-pyparsing python3-rdflib\n",
            "  python3-rdflib-jsonld python3-ruamel.yaml python3-schema-salad\n",
            "  python3-shellescape python3-soupsieve python3-sparqlwrapper\n",
            "  python3-typing-extensions python3-webencodings python3-yaml samtools\n",
            "0 upgraded, 36 newly installed, 0 to remove and 19 not upgraded.\n",
            "Need to get 12.1 MB of archives.\n",
            "After this operation, 58.4 MB of additional disk space will be used.\n",
            "Get:1 http://archive.ubuntu.com/ubuntu focal-updates/main amd64 python3-yaml amd64 5.3.1-1ubuntu0.1 [136 kB]\n",
            "Get:2 http://archive.ubuntu.com/ubuntu focal/universe amd64 python3-humanfriendly all 4.18-2 [60.8 kB]\n",
            "Get:3 http://archive.ubuntu.com/ubuntu focal/universe amd64 python3-coloredlogs all 7.3-2 [28.0 kB]\n",
            "Get:4 http://archive.ubuntu.com/ubuntu focal/universe amd64 python3-mypy-extensions all 0.4.3-1 [5,436 B]\n",
            "Get:5 http://archive.ubuntu.com/ubuntu focal/main amd64 python3-dateutil all 2.7.3-3ubuntu1 [63.3 kB]\n",
            "Get:6 http://archive.ubuntu.com/ubuntu focal-updates/main amd64 python3-lxml amd64 4.5.0-1ubuntu0.5 [1,384 kB]\n",
            "Get:7 http://archive.ubuntu.com/ubuntu focal/main amd64 python3-decorator all 4.4.2-0ubuntu1 [10.3 kB]\n",
            "Get:8 http://archive.ubuntu.com/ubuntu focal/main amd64 python3-networkx all 2.4-3ubuntu1 [855 kB]\n",
            "Get:9 http://archive.ubuntu.com/ubuntu focal/universe amd64 python3-isodate all 0.6.0-2 [24.0 kB]\n",
            "Get:10 http://archive.ubuntu.com/ubuntu focal/main amd64 python3-pyparsing all 2.4.6-1 [61.3 kB]\n",
            "Get:11 http://archive.ubuntu.com/ubuntu focal/universe amd64 python3-rdflib all 4.2.2-5 [241 kB]\n",
            "Get:12 http://archive.ubuntu.com/ubuntu focal/universe amd64 python3-prov all 1.5.2-2 [92.8 kB]\n",
            "Get:13 http://archive.ubuntu.com/ubuntu focal/main amd64 python3-psutil amd64 5.5.1-1ubuntu4 [141 kB]\n",
            "Get:14 http://archive.ubuntu.com/ubuntu focal/universe amd64 python3-ruamel.yaml amd64 0.15.89-3build1 [228 kB]\n",
            "Get:15 http://archive.ubuntu.com/ubuntu focal/main amd64 python3-msgpack amd64 0.6.2-1 [73.5 kB]\n",
            "Get:16 http://archive.ubuntu.com/ubuntu focal/main amd64 python3-lockfile all 1:0.12.2-2ubuntu2 [14.6 kB]\n",
            "Get:17 http://archive.ubuntu.com/ubuntu focal/universe amd64 python3-cachecontrol all 0.12.6-1ubuntu2 [16.7 kB]\n",
            "Get:18 http://archive.ubuntu.com/ubuntu focal/universe amd64 python3-mistune all 0.8.4-2 [14.3 kB]\n",
            "Get:19 http://archive.ubuntu.com/ubuntu focal/universe amd64 python3-rdflib-jsonld all 0.4.0-5 [12.4 kB]\n",
            "Get:20 http://archive.ubuntu.com/ubuntu focal/universe amd64 python3-typing-extensions all 3.7.4.1-1 [27.5 kB]\n",
            "Get:21 http://archive.ubuntu.com/ubuntu focal/universe amd64 fonts-glyphicons-halflings all 1.009~3.4.1+dfsg-1 [117 kB]\n",
            "Get:22 http://archive.ubuntu.com/ubuntu focal/universe amd64 libjs-bootstrap all 3.4.1+dfsg-1 [124 kB]\n",
            "Get:23 http://archive.ubuntu.com/ubuntu focal/universe amd64 python3-schema-salad all 5.0.20200220195218-1 [295 kB]\n",
            "Get:24 http://archive.ubuntu.com/ubuntu focal/universe amd64 python3-shellescape all 3.4.1-4 [4,928 B]\n",
            "Get:25 http://archive.ubuntu.com/ubuntu focal/universe amd64 cwltool all 2.0.20200224214940+dfsg-1 [203 kB]\n",
            "Get:26 http://archive.ubuntu.com/ubuntu focal-updates/universe amd64 libhts3 amd64 1.10.2-3ubuntu0.1 [350 kB]\n",
            "Get:27 http://archive.ubuntu.com/ubuntu focal-updates/main amd64 libc-ares2 amd64 1.15.0-1ubuntu0.1 [38.2 kB]\n",
            "Get:28 http://archive.ubuntu.com/ubuntu focal/universe amd64 libnode64 amd64 10.19.0~dfsg-3ubuntu1 [5,765 kB]\n",
            "Get:29 http://archive.ubuntu.com/ubuntu focal/universe amd64 nodejs-doc all 10.19.0~dfsg-3ubuntu1 [942 kB]\n",
            "Get:30 http://archive.ubuntu.com/ubuntu focal/main amd64 python3-soupsieve all 1.9.5+dfsg-1 [29.1 kB]\n",
            "Get:31 http://archive.ubuntu.com/ubuntu focal/main amd64 python3-bs4 all 4.8.2-1 [83.0 kB]\n",
            "Get:32 http://archive.ubuntu.com/ubuntu focal/main amd64 python3-webencodings all 0.5.1-1ubuntu1 [11.0 kB]\n",
            "Get:33 http://archive.ubuntu.com/ubuntu focal/main amd64 python3-html5lib all 1.0.1-2 [84.3 kB]\n",
            "Get:34 http://archive.ubuntu.com/ubuntu focal/universe amd64 python3-sparqlwrapper all 1.8.5-1 [32.3 kB]\n",
            "Get:35 http://archive.ubuntu.com/ubuntu focal/universe amd64 samtools amd64 1.10-3 [496 kB]\n",
            "Get:36 http://archive.ubuntu.com/ubuntu focal/universe amd64 nodejs amd64 10.19.0~dfsg-3ubuntu1 [61.1 kB]\n",
            "Fetched 12.1 MB in 4s (3,039 kB/s)\n",
            "Extracting templates from packages: 100%\n",
            "Selecting previously unselected package python3-yaml.\n",
            "(Reading database ... 128208 files and directories currently installed.)\n",
            "Preparing to unpack .../00-python3-yaml_5.3.1-1ubuntu0.1_amd64.deb ...\n",
            "Unpacking python3-yaml (5.3.1-1ubuntu0.1) ...\n",
            "Selecting previously unselected package python3-humanfriendly.\n",
            "Preparing to unpack .../01-python3-humanfriendly_4.18-2_all.deb ...\n",
            "Unpacking python3-humanfriendly (4.18-2) ...\n",
            "Selecting previously unselected package python3-coloredlogs.\n",
            "Preparing to unpack .../02-python3-coloredlogs_7.3-2_all.deb ...\n",
            "Unpacking python3-coloredlogs (7.3-2) ...\n",
            "Selecting previously unselected package python3-mypy-extensions.\n",
            "Preparing to unpack .../03-python3-mypy-extensions_0.4.3-1_all.deb ...\n",
            "Unpacking python3-mypy-extensions (0.4.3-1) ...\n",
            "Selecting previously unselected package python3-dateutil.\n",
            "Preparing to unpack .../04-python3-dateutil_2.7.3-3ubuntu1_all.deb ...\n",
            "Unpacking python3-dateutil (2.7.3-3ubuntu1) ...\n",
            "Selecting previously unselected package python3-lxml:amd64.\n",
            "Preparing to unpack .../05-python3-lxml_4.5.0-1ubuntu0.5_amd64.deb ...\n",
            "Unpacking python3-lxml:amd64 (4.5.0-1ubuntu0.5) ...\n",
            "Selecting previously unselected package python3-decorator.\n",
            "Preparing to unpack .../06-python3-decorator_4.4.2-0ubuntu1_all.deb ...\n",
            "Unpacking python3-decorator (4.4.2-0ubuntu1) ...\n",
            "Selecting previously unselected package python3-networkx.\n",
            "Preparing to unpack .../07-python3-networkx_2.4-3ubuntu1_all.deb ...\n",
            "Unpacking python3-networkx (2.4-3ubuntu1) ...\n",
            "Selecting previously unselected package python3-isodate.\n",
            "Preparing to unpack .../08-python3-isodate_0.6.0-2_all.deb ...\n",
            "Unpacking python3-isodate (0.6.0-2) ...\n",
            "Selecting previously unselected package python3-pyparsing.\n",
            "Preparing to unpack .../09-python3-pyparsing_2.4.6-1_all.deb ...\n",
            "Unpacking python3-pyparsing (2.4.6-1) ...\n",
            "Selecting previously unselected package python3-rdflib.\n",
            "Preparing to unpack .../10-python3-rdflib_4.2.2-5_all.deb ...\n",
            "Unpacking python3-rdflib (4.2.2-5) ...\n",
            "Selecting previously unselected package python3-prov.\n",
            "Preparing to unpack .../11-python3-prov_1.5.2-2_all.deb ...\n",
            "Unpacking python3-prov (1.5.2-2) ...\n",
            "Selecting previously unselected package python3-psutil.\n",
            "Preparing to unpack .../12-python3-psutil_5.5.1-1ubuntu4_amd64.deb ...\n",
            "Unpacking python3-psutil (5.5.1-1ubuntu4) ...\n",
            "Selecting previously unselected package python3-ruamel.yaml.\n",
            "Preparing to unpack .../13-python3-ruamel.yaml_0.15.89-3build1_amd64.deb ...\n",
            "Unpacking python3-ruamel.yaml (0.15.89-3build1) ...\n",
            "Selecting previously unselected package python3-msgpack.\n",
            "Preparing to unpack .../14-python3-msgpack_0.6.2-1_amd64.deb ...\n",
            "Unpacking python3-msgpack (0.6.2-1) ...\n",
            "Selecting previously unselected package python3-lockfile.\n",
            "Preparing to unpack .../15-python3-lockfile_1%3a0.12.2-2ubuntu2_all.deb ...\n",
            "Unpacking python3-lockfile (1:0.12.2-2ubuntu2) ...\n",
            "Selecting previously unselected package python3-cachecontrol.\n",
            "Preparing to unpack .../16-python3-cachecontrol_0.12.6-1ubuntu2_all.deb ...\n",
            "Unpacking python3-cachecontrol (0.12.6-1ubuntu2) ...\n",
            "Selecting previously unselected package python3-mistune.\n",
            "Preparing to unpack .../17-python3-mistune_0.8.4-2_all.deb ...\n",
            "Unpacking python3-mistune (0.8.4-2) ...\n",
            "Selecting previously unselected package python3-rdflib-jsonld.\n",
            "Preparing to unpack .../18-python3-rdflib-jsonld_0.4.0-5_all.deb ...\n",
            "Unpacking python3-rdflib-jsonld (0.4.0-5) ...\n",
            "Selecting previously unselected package python3-typing-extensions.\n",
            "Preparing to unpack .../19-python3-typing-extensions_3.7.4.1-1_all.deb ...\n",
            "Unpacking python3-typing-extensions (3.7.4.1-1) ...\n",
            "Selecting previously unselected package fonts-glyphicons-halflings.\n",
            "Preparing to unpack .../20-fonts-glyphicons-halflings_1.009~3.4.1+dfsg-1_all.deb ...\n",
            "Unpacking fonts-glyphicons-halflings (1.009~3.4.1+dfsg-1) ...\n",
            "Selecting previously unselected package libjs-bootstrap.\n",
            "Preparing to unpack .../21-libjs-bootstrap_3.4.1+dfsg-1_all.deb ...\n",
            "Unpacking libjs-bootstrap (3.4.1+dfsg-1) ...\n",
            "Selecting previously unselected package python3-schema-salad.\n",
            "Preparing to unpack .../22-python3-schema-salad_5.0.20200220195218-1_all.deb ...\n",
            "Unpacking python3-schema-salad (5.0.20200220195218-1) ...\n",
            "Selecting previously unselected package python3-shellescape.\n",
            "Preparing to unpack .../23-python3-shellescape_3.4.1-4_all.deb ...\n",
            "Unpacking python3-shellescape (3.4.1-4) ...\n",
            "Selecting previously unselected package cwltool.\n",
            "Preparing to unpack .../24-cwltool_2.0.20200224214940+dfsg-1_all.deb ...\n",
            "Unpacking cwltool (2.0.20200224214940+dfsg-1) ...\n",
            "Selecting previously unselected package libhts3:amd64.\n",
            "Preparing to unpack .../25-libhts3_1.10.2-3ubuntu0.1_amd64.deb ...\n",
            "Unpacking libhts3:amd64 (1.10.2-3ubuntu0.1) ...\n",
            "Selecting previously unselected package libc-ares2:amd64.\n",
            "Preparing to unpack .../26-libc-ares2_1.15.0-1ubuntu0.1_amd64.deb ...\n",
            "Unpacking libc-ares2:amd64 (1.15.0-1ubuntu0.1) ...\n",
            "Selecting previously unselected package libnode64:amd64.\n",
            "Preparing to unpack .../27-libnode64_10.19.0~dfsg-3ubuntu1_amd64.deb ...\n",
            "Unpacking libnode64:amd64 (10.19.0~dfsg-3ubuntu1) ...\n",
            "Selecting previously unselected package nodejs-doc.\n",
            "Preparing to unpack .../28-nodejs-doc_10.19.0~dfsg-3ubuntu1_all.deb ...\n",
            "Unpacking nodejs-doc (10.19.0~dfsg-3ubuntu1) ...\n",
            "Selecting previously unselected package python3-soupsieve.\n",
            "Preparing to unpack .../29-python3-soupsieve_1.9.5+dfsg-1_all.deb ...\n",
            "Unpacking python3-soupsieve (1.9.5+dfsg-1) ...\n",
            "Selecting previously unselected package python3-bs4.\n",
            "Preparing to unpack .../30-python3-bs4_4.8.2-1_all.deb ...\n",
            "Unpacking python3-bs4 (4.8.2-1) ...\n",
            "Selecting previously unselected package python3-webencodings.\n",
            "Preparing to unpack .../31-python3-webencodings_0.5.1-1ubuntu1_all.deb ...\n",
            "Unpacking python3-webencodings (0.5.1-1ubuntu1) ...\n",
            "Selecting previously unselected package python3-html5lib.\n",
            "Preparing to unpack .../32-python3-html5lib_1.0.1-2_all.deb ...\n",
            "Unpacking python3-html5lib (1.0.1-2) ...\n",
            "Selecting previously unselected package python3-sparqlwrapper.\n",
            "Preparing to unpack .../33-python3-sparqlwrapper_1.8.5-1_all.deb ...\n",
            "Unpacking python3-sparqlwrapper (1.8.5-1) ...\n",
            "Selecting previously unselected package samtools.\n",
            "Preparing to unpack .../34-samtools_1.10-3_amd64.deb ...\n",
            "Unpacking samtools (1.10-3) ...\n",
            "Selecting previously unselected package nodejs.\n",
            "Preparing to unpack .../35-nodejs_10.19.0~dfsg-3ubuntu1_amd64.deb ...\n",
            "Unpacking nodejs (10.19.0~dfsg-3ubuntu1) ...\n",
            "Setting up python3-lockfile (1:0.12.2-2ubuntu2) ...\n",
            "Setting up libhts3:amd64 (1.10.2-3ubuntu0.1) ...\n",
            "Setting up fonts-glyphicons-halflings (1.009~3.4.1+dfsg-1) ...\n",
            "Setting up python3-mypy-extensions (0.4.3-1) ...\n",
            "Setting up python3-yaml (5.3.1-1ubuntu0.1) ...\n",
            "Setting up libc-ares2:amd64 (1.15.0-1ubuntu0.1) ...\n",
            "Setting up python3-webencodings (0.5.1-1ubuntu1) ...\n",
            "Setting up python3-psutil (5.5.1-1ubuntu4) ...\n",
            "Setting up samtools (1.10-3) ...\n",
            "Setting up python3-isodate (0.6.0-2) ...\n",
            "Setting up python3-decorator (4.4.2-0ubuntu1) ...\n",
            "Setting up python3-pyparsing (2.4.6-1) ...\n",
            "Setting up python3-humanfriendly (4.18-2) ...\n",
            "Setting up libnode64:amd64 (10.19.0~dfsg-3ubuntu1) ...\n",
            "Setting up python3-typing-extensions (3.7.4.1-1) ...\n",
            "Setting up python3-html5lib (1.0.1-2) ...\n",
            "Setting up nodejs-doc (10.19.0~dfsg-3ubuntu1) ...\n",
            "Setting up python3-ruamel.yaml (0.15.89-3build1) ...\n",
            "Setting up python3-lxml:amd64 (4.5.0-1ubuntu0.5) ...\n",
            "Setting up python3-rdflib (4.2.2-5) ...\n",
            "/usr/lib/python3/dist-packages/rdflib/plugins/memory.py:354: SyntaxWarning: \"is\" with a literal. Did you mean \"==\"?\n",
            "  if triple is None or triple is (None,None,None):\n",
            "Setting up python3-dateutil (2.7.3-3ubuntu1) ...\n",
            "Setting up python3-msgpack (0.6.2-1) ...\n",
            "Setting up python3-cachecontrol (0.12.6-1ubuntu2) ...\n",
            "Setting up python3-shellescape (3.4.1-4) ...\n",
            "Setting up python3-coloredlogs (7.3-2) ...\n",
            "Setting up python3-mistune (0.8.4-2) ...\n",
            "Setting up python3-soupsieve (1.9.5+dfsg-1) ...\n",
            "Setting up libjs-bootstrap (3.4.1+dfsg-1) ...\n",
            "Setting up python3-rdflib-jsonld (0.4.0-5) ...\n",
            "Setting up python3-sparqlwrapper (1.8.5-1) ...\n",
            "Setting up python3-schema-salad (5.0.20200220195218-1) ...\n",
            "Setting up nodejs (10.19.0~dfsg-3ubuntu1) ...\n",
            "update-alternatives: using /usr/bin/nodejs to provide /usr/bin/js (js) in auto mode\n",
            "Setting up python3-networkx (2.4-3ubuntu1) ...\n",
            "/usr/lib/python3/dist-packages/networkx/readwrite/tests/test_graphml.py:933: SyntaxWarning: \"is\" with a literal. Did you mean \"==\"?\n",
            "  assert H.nodes['n1']['special'] is 0\n",
            "/usr/lib/python3/dist-packages/networkx/readwrite/tests/test_graphml.py:935: SyntaxWarning: \"is\" with a literal. Did you mean \"==\"?\n",
            "  assert H.edges['n0','n1',1]['special'] is 0\n",
            "Setting up python3-bs4 (4.8.2-1) ...\n",
            "Setting up python3-prov (1.5.2-2) ...\n",
            "Setting up cwltool (2.0.20200224214940+dfsg-1) ...\n",
            "/usr/lib/python3/dist-packages/cwltool/docker.py:423: SyntaxWarning: \"is\" with a literal. Did you mean \"==\"?\n",
            "  if res_req is not None and (\"ramMin\" in res_req or \"ramMax\" is res_req):\n",
            "Processing triggers for fontconfig (2.13.1-2ubuntu3) ...\n",
            "Processing triggers for libc-bin (2.31-0ubuntu9.9) ...\n",
            "Processing triggers for man-db (2.9.1-1) ...\n"
          ]
        }
      ]
    },
    {
      "cell_type": "code",
      "source": [
        "!samtools"
      ],
      "metadata": {
        "colab": {
          "base_uri": "https://localhost:8080/"
        },
        "id": "E3CdakUGMffX",
        "outputId": "aba18e11-445f-4e18-ea52-b2dd0a724335"
      },
      "execution_count": 33,
      "outputs": [
        {
          "output_type": "stream",
          "name": "stdout",
          "text": [
            "\n",
            "Program: samtools (Tools for alignments in the SAM format)\n",
            "Version: 1.10 (using htslib 1.10.2-3ubuntu0.1)\n",
            "\n",
            "Usage:   samtools <command> [options]\n",
            "\n",
            "Commands:\n",
            "  -- Indexing\n",
            "     dict           create a sequence dictionary file\n",
            "     faidx          index/extract FASTA\n",
            "     fqidx          index/extract FASTQ\n",
            "     index          index alignment\n",
            "\n",
            "  -- Editing\n",
            "     calmd          recalculate MD/NM tags and '=' bases\n",
            "     fixmate        fix mate information\n",
            "     reheader       replace BAM header\n",
            "     targetcut      cut fosmid regions (for fosmid pool only)\n",
            "     addreplacerg   adds or replaces RG tags\n",
            "     markdup        mark duplicates\n",
            "\n",
            "  -- File operations\n",
            "     collate        shuffle and group alignments by name\n",
            "     cat            concatenate BAMs\n",
            "     merge          merge sorted alignments\n",
            "     mpileup        multi-way pileup\n",
            "     sort           sort alignment file\n",
            "     split          splits a file by read group\n",
            "     quickcheck     quickly check if SAM/BAM/CRAM file appears intact\n",
            "     fastq          converts a BAM to a FASTQ\n",
            "     fasta          converts a BAM to a FASTA\n",
            "\n",
            "  -- Statistics\n",
            "     bedcov         read depth per BED region\n",
            "     coverage       alignment depth and percent coverage\n",
            "     depth          compute the depth\n",
            "     flagstat       simple stats\n",
            "     idxstats       BAM index stats\n",
            "     phase          phase heterozygotes\n",
            "     stats          generate stats (former bamcheck)\n",
            "\n",
            "  -- Viewing\n",
            "     flags          explain BAM flags\n",
            "     tview          text alignment viewer\n",
            "     view           SAM<->BAM<->CRAM conversion\n",
            "     depad          convert padded BAM to unpadded BAM\n",
            "\n"
          ]
        }
      ]
    },
    {
      "cell_type": "code",
      "source": [
        "!/content/hisat2-2.0.4/hisat2 -p 4 -x genome_index -U /content/SRR941816.fastq.gz | samtools sort > out816.bam"
      ],
      "metadata": {
        "colab": {
          "base_uri": "https://localhost:8080/"
        },
        "id": "6rPJMEl67XGP",
        "outputId": "00a166c6-0059-4f1c-ecc1-6c75001b5f30"
      },
      "execution_count": 35,
      "outputs": [
        {
          "output_type": "stream",
          "name": "stdout",
          "text": [
            "9043877 reads; of these:\n",
            "  9043877 (100.00%) were unpaired; of these:\n",
            "    515651 (5.70%) aligned 0 times\n",
            "    7537646 (83.35%) aligned exactly 1 time\n",
            "    990580 (10.95%) aligned >1 times\n",
            "94.30% overall alignment rate\n",
            "[bam_sort_core] merging from 2 files and 1 in-memory blocks...\n"
          ]
        }
      ]
    },
    {
      "cell_type": "code",
      "source": [
        "!/content/hisat2-2.0.4/hisat2 -p 4 -x genome_index -U /content/SRR941817.fastq.gz | samtools sort > out817.bam"
      ],
      "metadata": {
        "colab": {
          "base_uri": "https://localhost:8080/"
        },
        "id": "MuYWRVWZO_2_",
        "outputId": "92f5b67a-9710-4cc8-a16e-45c0a4f200f2"
      },
      "execution_count": 36,
      "outputs": [
        {
          "output_type": "stream",
          "name": "stdout",
          "text": [
            "9929568 reads; of these:\n",
            "  9929568 (100.00%) were unpaired; of these:\n",
            "    505448 (5.09%) aligned 0 times\n",
            "    8206647 (82.65%) aligned exactly 1 time\n",
            "    1217473 (12.26%) aligned >1 times\n",
            "94.91% overall alignment rate\n",
            "[bam_sort_core] merging from 2 files and 1 in-memory blocks...\n"
          ]
        }
      ]
    },
    {
      "cell_type": "code",
      "source": [
        "!/content/hisat2-2.0.4/hisat2 -p 4 -x genome_index -U /content/SRR941818.fastq.gz | samtools sort > out818.bam"
      ],
      "metadata": {
        "colab": {
          "base_uri": "https://localhost:8080/"
        },
        "id": "byuqz4uWPa73",
        "outputId": "5de9716f-9dbb-4f37-c8aa-80ade4fa6ecf"
      },
      "execution_count": 37,
      "outputs": [
        {
          "output_type": "stream",
          "name": "stdout",
          "text": [
            "1721675 reads; of these:\n",
            "  1721675 (100.00%) were unpaired; of these:\n",
            "    65765 (3.82%) aligned 0 times\n",
            "    1433258 (83.25%) aligned exactly 1 time\n",
            "    222652 (12.93%) aligned >1 times\n",
            "96.18% overall alignment rate\n"
          ]
        }
      ]
    },
    {
      "cell_type": "code",
      "source": [
        "!/content/hisat2-2.0.4/hisat2 -p 4 -x genome_index -U /content/SRR941819.fastq.gz | samtools sort > out819.bam"
      ],
      "metadata": {
        "colab": {
          "base_uri": "https://localhost:8080/"
        },
        "id": "7Gbn9fhbPd-B",
        "outputId": "1d03d2c8-a5e4-4143-b386-eeb5cbaa6ed1"
      },
      "execution_count": 38,
      "outputs": [
        {
          "output_type": "stream",
          "name": "stdout",
          "text": [
            "6172452 reads; of these:\n",
            "  6172452 (100.00%) were unpaired; of these:\n",
            "    231797 (3.76%) aligned 0 times\n",
            "    5089119 (82.45%) aligned exactly 1 time\n",
            "    851536 (13.80%) aligned >1 times\n",
            "96.24% overall alignment rate\n",
            "[bam_sort_core] merging from 1 files and 1 in-memory blocks...\n"
          ]
        }
      ]
    },
    {
      "cell_type": "markdown",
      "source": [
        "### Quantifying with featureCounts\n",
        "\n",
        "COnverting GFF annotation to the GTF file:"
      ],
      "metadata": {
        "id": "VnMZCxnOQo-5"
      }
    },
    {
      "cell_type": "code",
      "source": [
        "!apt-get install gffread"
      ],
      "metadata": {
        "colab": {
          "base_uri": "https://localhost:8080/"
        },
        "id": "DRCcD-rEQvTl",
        "outputId": "69b7ceb0-4e7c-4bcb-e3c5-098386b34d86"
      },
      "execution_count": 49,
      "outputs": [
        {
          "output_type": "stream",
          "name": "stdout",
          "text": [
            "Reading package lists... Done\n",
            "Building dependency tree       \n",
            "Reading state information... Done\n",
            "The following additional packages will be installed:\n",
            "  libgclib1\n",
            "The following NEW packages will be installed:\n",
            "  gffread libgclib1\n",
            "0 upgraded, 2 newly installed, 0 to remove and 19 not upgraded.\n",
            "Need to get 188 kB of archives.\n",
            "After this operation, 566 kB of additional disk space will be used.\n",
            "Get:1 http://archive.ubuntu.com/ubuntu focal/universe amd64 libgclib1 amd64 0.11.4-1 [142 kB]\n",
            "Get:2 http://archive.ubuntu.com/ubuntu focal/universe amd64 gffread amd64 0.11.7-2 [45.5 kB]\n",
            "Fetched 188 kB in 0s (858 kB/s)\n",
            "Selecting previously unselected package libgclib1:amd64.\n",
            "(Reading database ... 131340 files and directories currently installed.)\n",
            "Preparing to unpack .../libgclib1_0.11.4-1_amd64.deb ...\n",
            "Unpacking libgclib1:amd64 (0.11.4-1) ...\n",
            "Selecting previously unselected package gffread.\n",
            "Preparing to unpack .../gffread_0.11.7-2_amd64.deb ...\n",
            "Unpacking gffread (0.11.7-2) ...\n",
            "Setting up libgclib1:amd64 (0.11.4-1) ...\n",
            "Setting up gffread (0.11.7-2) ...\n",
            "Processing triggers for man-db (2.9.1-1) ...\n",
            "Processing triggers for libc-bin (2.31-0ubuntu9.9) ...\n"
          ]
        }
      ]
    },
    {
      "cell_type": "code",
      "source": [
        "!gffread -h"
      ],
      "metadata": {
        "colab": {
          "base_uri": "https://localhost:8080/"
        },
        "id": "uV3lVgfhTYxt",
        "outputId": "24c61284-a07a-47d8-c4ad-d9455f7c840b"
      },
      "execution_count": 51,
      "outputs": [
        {
          "output_type": "stream",
          "name": "stdout",
          "text": [
            "gffread v0.11.7. Usage:\n",
            "gffread <input_gff> [-g <genomic_seqs_fasta> | <dir>][-s <seq_info.fsize>] \n",
            " [-o <outfile>] [-t <trackname>] [-r [[<strand>]<chr>:]<start>..<end> [-R]]\n",
            " [-CTVNJMKQAFPGUBHZWTOLE] [-w <exons.fa>] [-x <cds.fa>] [-y <tr_cds.fa>]\n",
            " [-i <maxintron>] [--bed] [--table <attrlist>] [--sort-by <refseq_list.txt>]\n",
            " \n",
            " Filter, convert or cluster GFF/GTF/BED records, extract the sequence of\n",
            " transcripts (exon or CDS) and more.\n",
            " By default (i.e. without -O) only transcripts are processed, discarding any\n",
            " other non-transcript features. Default output is a simplified GFF3 with only\n",
            " the basic attributes.\n",
            " \n",
            " <input_gff> is a GFF file, use '-' for stdin\n",
            " \n",
            "Options:\n",
            " -i   discard transcripts having an intron larger than <maxintron>\n",
            " -l   discard transcripts shorter than <minlen> bases\n",
            " -r   only show transcripts overlapping coordinate range <start>..<end>\n",
            "      (on chromosome/contig <chr>, strand <strand> if provided)\n",
            " -R   for -r option, discard all transcripts that are not fully \n",
            "      contained within the given range\n",
            " -U   discard single-exon transcripts\n",
            " -C   coding only: discard mRNAs that have no CDS features\n",
            " --nc non-coding only: discard mRNAs that have CDS features\n",
            " --ignore-locus : discard locus features and attributes found in the input\n",
            " -A   use the description field from <seq_info.fsize> and add it\n",
            "      as the value for a 'descr' attribute to the GFF record\n",
            " -s   <seq_info.fsize> is a tab-delimited file providing this info\n",
            "      for each of the mapped sequences:\n",
            "      <seq-name> <seq-length> <seq-description>\n",
            "      (useful for -A option with mRNA/EST/protein mappings)\n",
            "Sorting: (by default, chromosomes are kept in the order they were found)\n",
            " --sort-alpha : chromosomes (reference sequences) are sorted alphabetically\n",
            " --sort-by : sort the reference sequences by the order in which their\n",
            "      names are given in the <refseq.lst> file\n",
            "Misc options: \n",
            " -F   preserve all GFF attributes (for non-exon features)\n",
            " --keep-exon-attrs : for -F option, do not attempt to reduce redundant\n",
            "      exon/CDS attributes\n",
            " -G   do not keep exon attributes, move them to the transcript feature\n",
            "      (for GFF3 output)\n",
            " --keep-genes : in transcript-only mode (default), also preserve gene records\n",
            " --keep-comments: for GFF3 input/output, try to preserve comments\n",
            " -O   process other non-transcript GFF records (by default non-transcript\n",
            "      records are ignored)\n",
            " -V   discard any mRNAs with CDS having in-frame stop codons (requires -g)\n",
            " -H   for -V option, check and adjust the starting CDS phase\n",
            "      if the original phase leads to a translation with an \n",
            "      in-frame stop codon\n",
            " -B   for -V option, single-exon transcripts are also checked on the\n",
            "      opposite strand (requires -g)\n",
            " -P   add transcript level GFF attributes about the coding status of each\n",
            "      transcript, including partialness or in-frame stop codons (requires -g)\n",
            " --add-hasCDS : add a \"hasCDS\" attribute with value \"true\" for transcripts\n",
            "      that have CDS features\n",
            " --adj-stop stop codon adjustment: enables -P and performs automatic\n",
            "      adjustment of the CDS stop coordinate if premature or downstream\n",
            " -N   discard multi-exon mRNAs that have any intron with a non-canonical\n",
            "      splice site consensus (i.e. not GT-AG, GC-AG or AT-AC)\n",
            " -J   discard any mRNAs that either lack initial START codon\n",
            "      or the terminal STOP codon, or have an in-frame stop codon\n",
            "      (i.e. only print mRNAs with a complete CDS)\n",
            " --no-pseudo: filter out records matching the 'pseudo' keyword\n",
            " --in-bed: input should be parsed as BED format (automatic if the input\n",
            "           filename ends with .bed*)\n",
            " --in-tlf: input GFF-like one-line-per-transcript format without exon/CDS\n",
            "           features (see --tlf option below); automatic if the input\n",
            "           filename ends with .tlf)\n",
            "Clustering:\n",
            " -M/--merge : cluster the input transcripts into loci, discarding\n",
            "      \"duplicated\" transcripts (those with the same exact introns\n",
            "      and fully contained or equal boundaries)\n",
            " -d <dupinfo> : for -M option, write duplication info to file <dupinfo>\n",
            " --cluster-only: same as -M/--merge but without discarding any of the\n",
            "      \"duplicate\" transcripts, only create \"locus\" features\n",
            " -K   for -M option: also discard as redundant the shorter, fully contained\n",
            "       transcripts (intron chains matching a part of the container)\n",
            " -Q   for -M option, no longer require boundary containment when assessing\n",
            "      redundancy (can be combined with -K); only introns have to match for\n",
            "      multi-exon transcripts, and >=80% overlap for single-exon transcripts\n",
            " -Y   for -M option, enforce -Q but also discard overlapping single-exon \n",
            "      transcripts, even on the opposite strand (can be combined with -K)\n",
            "Output options:\n",
            " --force-exons: make sure that the lowest level GFF features are considered\n",
            "       \"exon\" features\n",
            " --gene2exon: for single-line genes not parenting any transcripts, add an\n",
            "       exon feature spanning the entire gene (treat it as a transcript)\n",
            " --t-adopt:  try to find a parent gene overlapping/containing a transcript\n",
            "       that does not have any explicit gene Parent\n",
            " -D    decode url encoded characters within attributes\n",
            " -Z    merge very close exons into a single exon (when intron size<4)\n",
            " -g   full path to a multi-fasta file with the genomic sequences\n",
            "      for all input mappings, OR a directory with single-fasta files\n",
            "      (one per genomic sequence, with file names matching sequence names)\n",
            " -w    write a fasta file with spliced exons for each transcript\n",
            " --w-add <N> for the -w option, extract additional <N> bases\n",
            "       both upstream and downstream of the transcript boundaries\n",
            " -x    write a fasta file with spliced CDS for each GFF transcript\n",
            " -y    write a protein fasta file with the translation of CDS for each record\n",
            " -W    for -w and -x options, write in the FASTA defline the exon\n",
            "       coordinates projected onto the spliced sequence;\n",
            "       for -y option, write transcript attributes in the FASTA defline\n",
            " -S    for -y option, use '*' instead of '.' as stop codon translation\n",
            " -L    Ensembl GTF to GFF3 conversion (implies -F; should be used with -m)\n",
            " -m    <chr_replace> is a name mapping table for converting reference \n",
            "       sequence names, having this 2-column format:\n",
            "       <original_ref_ID> <new_ref_ID>\n",
            " -t    use <trackname> in the 2nd column of each GFF/GTF output line\n",
            " -o    write the records into <outfile> instead of stdout\n",
            " -T    main output will be GTF instead of GFF3\n",
            " --bed output records in BED format instead of default GFF3\n",
            " --tlf output \"transcript line format\" which is like GFF\n",
            "       but exons, CDS features and related data are stored as GFF \n",
            "       attributes in the transcript feature line, like this:\n",
            "         exoncount=N;exons=<exons>;CDSphase=<N>;CDS=<CDScoords> \n",
            "       <exons> is a comma-delimited list of exon_start-exon_end coordinates;\n",
            "       <CDScoords> is CDS_start:CDS_end coordinates or a list like <exons>\n",
            " --table output a simple tab delimited format instead of GFF, with columns\n",
            "       having the values of GFF attributes given in <attrlist>; special\n",
            "       pseudo-attributes (prefixed by @) are recognized:\n",
            "       @id, @geneid, @chr, @start, @end, @strand, @numexons, @exons, \n",
            "       @cds, @covlen, @cdslen\n",
            " -v,-E expose (warn about) duplicate transcript IDs and other potential\n",
            "       problems with the given GFF/GTF records\n"
          ]
        }
      ]
    },
    {
      "cell_type": "code",
      "source": [
        "!gunzip /content/GCF_000146045.2_R64_genomic.gff.gz"
      ],
      "metadata": {
        "id": "s8DysPcRSajE"
      },
      "execution_count": 44,
      "outputs": []
    },
    {
      "cell_type": "code",
      "source": [
        "!gffread /content/GCF_000146045.2_R64_genomic.gff -T -o /content/gen_ann.gtf"
      ],
      "metadata": {
        "id": "aYpAu2HPSLit"
      },
      "execution_count": 52,
      "outputs": []
    },
    {
      "cell_type": "markdown",
      "source": [
        "Running the feature counts:"
      ],
      "metadata": {
        "id": "4oFbEk7zUZFi"
      }
    },
    {
      "cell_type": "code",
      "source": [
        "!apt-get install subread"
      ],
      "metadata": {
        "colab": {
          "base_uri": "https://localhost:8080/"
        },
        "id": "6t7aqu0KVDlj",
        "outputId": "8c48a7df-63e1-4e82-bc70-38fb5f19cd1f"
      },
      "execution_count": 53,
      "outputs": [
        {
          "output_type": "stream",
          "name": "stdout",
          "text": [
            "Reading package lists... Done\n",
            "Building dependency tree       \n",
            "Reading state information... Done\n",
            "The following NEW packages will be installed:\n",
            "  subread\n",
            "0 upgraded, 1 newly installed, 0 to remove and 19 not upgraded.\n",
            "Need to get 656 kB of archives.\n",
            "After this operation, 7,152 kB of additional disk space will be used.\n",
            "Get:1 http://archive.ubuntu.com/ubuntu focal/universe amd64 subread amd64 2.0.0+dfsg-1 [656 kB]\n",
            "Fetched 656 kB in 1s (863 kB/s)\n",
            "Selecting previously unselected package subread.\n",
            "(Reading database ... 131350 files and directories currently installed.)\n",
            "Preparing to unpack .../subread_2.0.0+dfsg-1_amd64.deb ...\n",
            "Unpacking subread (2.0.0+dfsg-1) ...\n",
            "Setting up subread (2.0.0+dfsg-1) ...\n",
            "Processing triggers for man-db (2.9.1-1) ...\n"
          ]
        }
      ]
    },
    {
      "cell_type": "code",
      "source": [
        "!featureCounts -h"
      ],
      "metadata": {
        "colab": {
          "base_uri": "https://localhost:8080/"
        },
        "id": "4egpCvAVVWol",
        "outputId": "9997ccc6-c2d7-4011-9245-33e5a3aa8c95"
      },
      "execution_count": 55,
      "outputs": [
        {
          "output_type": "stream",
          "name": "stdout",
          "text": [
            "featureCounts: invalid option -- 'h'\n",
            "\n",
            "Version 2.0.0\n",
            "\n",
            "Usage: featureCounts [options] -a <annotation_file> -o <output_file> input_file1 [input_file2] ... \n",
            "\n",
            "## Mandatory arguments:\n",
            "\n",
            "  -a <string>         Name of an annotation file. GTF/GFF format by default. See\n",
            "                      -F option for more format information. Inbuilt annotations\n",
            "                      (SAF format) is available in 'annotation' directory of the\n",
            "                      package. Gzipped file is also accepted.\n",
            "\n",
            "  -o <string>         Name of output file including read counts. A separate file\n",
            "                      including summary statistics of counting results is also\n",
            "                      included in the output ('<string>.summary'). Both files\n",
            "                      are in tab delimited format.\n",
            "\n",
            "  input_file1 [input_file2] ...   A list of SAM or BAM format files. They can be\n",
            "                      either name or location sorted. If no files provided,\n",
            "                      <stdin> input is expected. Location-sorted paired-end reads\n",
            "                      are automatically sorted by read names.\n",
            "\n",
            "## Optional arguments:\n",
            "# Annotation\n",
            "\n",
            "  -F <string>         Specify format of the provided annotation file. Acceptable\n",
            "                      formats include 'GTF' (or compatible GFF format) and\n",
            "                      'SAF'. 'GTF' by default.  For SAF format, please refer to\n",
            "                      Users Guide.\n",
            "\n",
            "  -t <string>         Specify feature type in GTF annotation. 'exon' by \n",
            "                      default. Features used for read counting will be \n",
            "                      extracted from annotation using the provided value.\n",
            "\n",
            "  -g <string>         Specify attribute type in GTF annotation. 'gene_id' by \n",
            "                      default. Meta-features used for read counting will be \n",
            "                      extracted from annotation using the provided value.\n",
            "\n",
            "  --extraAttributes   Extract extra attribute types from the provided GTF\n",
            "                      annotation and include them in the counting output. These\n",
            "                      attribute types will not be used to group features. If\n",
            "                      more than one attribute type is provided they should be\n",
            "                      separated by comma.\n",
            "\n",
            "  -A <string>         Provide a chromosome name alias file to match chr names in\n",
            "                      annotation with those in the reads. This should be a two-\n",
            "                      column comma-delimited text file. Its first column should\n",
            "                      include chr names in the annotation and its second column\n",
            "                      should include chr names in the reads. Chr names are case\n",
            "                      sensitive. No column header should be included in the\n",
            "                      file.\n",
            "\n",
            "# Level of summarization\n",
            "\n",
            "  -f                  Perform read counting at feature level (eg. counting \n",
            "                      reads for exons rather than genes).\n",
            "\n",
            "# Overlap between reads and features\n",
            "\n",
            "  -O                  Assign reads to all their overlapping meta-features (or \n",
            "                      features if -f is specified).\n",
            "\n",
            "  --minOverlap <int>  Minimum number of overlapping bases in a read that is\n",
            "                      required for read assignment. 1 by default. Number of\n",
            "                      overlapping bases is counted from both reads if paired\n",
            "                      end. If a negative value is provided, then a gap of up\n",
            "                      to specified size will be allowed between read and the\n",
            "                      feature that the read is assigned to.\n",
            "\n",
            "  --fracOverlap <float> Minimum fraction of overlapping bases in a read that is\n",
            "                      required for read assignment. Value should be within range\n",
            "                      [0,1]. 0 by default. Number of overlapping bases is\n",
            "                      counted from both reads if paired end. Both this option\n",
            "                      and '--minOverlap' option need to be satisfied for read\n",
            "                      assignment.\n",
            "\n",
            "  --fracOverlapFeature <float> Minimum fraction of overlapping bases in a\n",
            "                      feature that is required for read assignment. Value\n",
            "                      should be within range [0,1]. 0 by default.\n",
            "\n",
            "  --largestOverlap    Assign reads to a meta-feature/feature that has the \n",
            "                      largest number of overlapping bases.\n",
            "\n",
            "  --nonOverlap <int>  Maximum number of non-overlapping bases in a read (or a\n",
            "                      read pair) that is allowed when being assigned to a\n",
            "                      feature. No limit is set by default.\n",
            "\n",
            "  --nonOverlapFeature <int> Maximum number of non-overlapping bases in a feature\n",
            "                      that is allowed in read assignment. No limit is set by\n",
            "                      default.\n",
            "\n",
            "  --readExtension5 <int> Reads are extended upstream by <int> bases from their\n",
            "                      5' end.\n",
            "\n",
            "  --readExtension3 <int> Reads are extended upstream by <int> bases from their\n",
            "                      3' end.\n",
            "\n",
            "  --read2pos <5:3>    Reduce reads to their 5' most base or 3' most base. Read\n",
            "                      counting is then performed based on the single base the \n",
            "                      read is reduced to.\n",
            "\n",
            "# Multi-mapping reads\n",
            "\n",
            "  -M                  Multi-mapping reads will also be counted. For a multi-\n",
            "                      mapping read, all its reported alignments will be \n",
            "                      counted. The 'NH' tag in BAM/SAM input is used to detect \n",
            "                      multi-mapping reads.\n",
            "\n",
            "# Fractional counting\n",
            "\n",
            "  --fraction          Assign fractional counts to features. This option must\n",
            "                      be used together with '-M' or '-O' or both. When '-M' is\n",
            "                      specified, each reported alignment from a multi-mapping\n",
            "                      read (identified via 'NH' tag) will carry a fractional\n",
            "                      count of 1/x, instead of 1 (one), where x is the total\n",
            "                      number of alignments reported for the same read. When '-O'\n",
            "                      is specified, each overlapping feature will receive a\n",
            "                      fractional count of 1/y, where y is the total number of\n",
            "                      features overlapping with the read. When both '-M' and\n",
            "                      '-O' are specified, each alignment will carry a fractional\n",
            "                      count of 1/(x*y).\n",
            "\n",
            "# Read filtering\n",
            "\n",
            "  -Q <int>            The minimum mapping quality score a read must satisfy in\n",
            "                      order to be counted. For paired-end reads, at least one\n",
            "                      end should satisfy this criteria. 0 by default.\n",
            "\n",
            "  --splitOnly         Count split alignments only (ie. alignments with CIGAR\n",
            "                      string containing 'N'). An example of split alignments is\n",
            "                      exon-spanning reads in RNA-seq data.\n",
            "\n",
            "  --nonSplitOnly      If specified, only non-split alignments (CIGAR strings do\n",
            "                      not contain letter 'N') will be counted. All the other\n",
            "                      alignments will be ignored.\n",
            "\n",
            "  --primary           Count primary alignments only. Primary alignments are \n",
            "                      identified using bit 0x100 in SAM/BAM FLAG field.\n",
            "\n",
            "  --ignoreDup         Ignore duplicate reads in read counting. Duplicate reads \n",
            "                      are identified using bit Ox400 in BAM/SAM FLAG field. The \n",
            "                      whole read pair is ignored if one of the reads is a \n",
            "                      duplicate read for paired end data.\n",
            "\n",
            "# Strandness\n",
            "\n",
            "  -s <int or string>  Perform strand-specific read counting. A single integer\n",
            "                      value (applied to all input files) or a string of comma-\n",
            "                      separated values (applied to each corresponding input\n",
            "                      file) should be provided. Possible values include:\n",
            "                      0 (unstranded), 1 (stranded) and 2 (reversely stranded).\n",
            "                      Default value is 0 (ie. unstranded read counting carried\n",
            "                      out for all input files).\n",
            "\n",
            "# Exon-exon junctions\n",
            "\n",
            "  -J                  Count number of reads supporting each exon-exon junction.\n",
            "                      Junctions were identified from those exon-spanning reads\n",
            "                      in the input (containing 'N' in CIGAR string). Counting\n",
            "                      results are saved to a file named '<output_file>.jcounts'\n",
            "\n",
            "  -G <string>         Provide the name of a FASTA-format file that contains the\n",
            "                      reference sequences used in read mapping that produced the\n",
            "                      provided SAM/BAM files. This optional argument can be used\n",
            "                      with '-J' option to improve read counting for junctions.\n",
            "\n",
            "# Parameters specific to paired end reads\n",
            "\n",
            "  -p                  If specified, fragments (or templates) will be counted\n",
            "                      instead of reads. This option is only applicable for\n",
            "                      paired-end reads; single-end reads are always counted as\n",
            "                      reads.\n",
            "\n",
            "  -B                  Only count read pairs that have both ends aligned.\n",
            "\n",
            "  -P                  Check validity of paired-end distance when counting read \n",
            "                      pairs. Use -d and -D to set thresholds.\n",
            "\n",
            "  -d <int>            Minimum fragment/template length, 50 by default.\n",
            "\n",
            "  -D <int>            Maximum fragment/template length, 600 by default.\n",
            "\n",
            "  -C                  Do not count read pairs that have their two ends mapping \n",
            "                      to different chromosomes or mapping to same chromosome \n",
            "                      but on different strands.\n",
            "\n",
            "  --donotsort         Do not sort reads in BAM/SAM input. Note that reads from \n",
            "                      the same pair are required to be located next to each \n",
            "                      other in the input.\n",
            "\n",
            "# Number of CPU threads\n",
            "\n",
            "  -T <int>            Number of the threads. 1 by default.\n",
            "\n",
            "# Read groups\n",
            "\n",
            "  --byReadGroup       Assign reads by read group. \"RG\" tag is required to be\n",
            "                      present in the input BAM/SAM files.\n",
            "                      \n",
            "\n",
            "# Long reads\n",
            "\n",
            "  -L                  Count long reads such as Nanopore and PacBio reads. Long\n",
            "                      read counting can only run in one thread and only reads\n",
            "                      (not read-pairs) can be counted. There is no limitation on\n",
            "                      the number of 'M' operations allowed in a CIGAR string in\n",
            "                      long read counting.\n",
            "\n",
            "# Assignment results for each read\n",
            "\n",
            "  -R <format>         Output detailed assignment results for each read or read-\n",
            "                      pair. Results are saved to a file that is in one of the\n",
            "                      following formats: CORE, SAM and BAM. See Users Guide for\n",
            "                      more info about these formats.\n",
            "\n",
            "  --Rpath <string>    Specify a directory to save the detailed assignment\n",
            "                      results. If unspecified, the directory where counting\n",
            "                      results are saved is used.\n",
            "\n",
            "# Miscellaneous\n",
            "\n",
            "  --tmpDir <string>   Directory under which intermediate files are saved (later\n",
            "                      removed). By default, intermediate files will be saved to\n",
            "                      the directory specified in '-o' argument.\n",
            "\n",
            "  --maxMOp <int>      Maximum number of 'M' operations allowed in a CIGAR\n",
            "                      string. 10 by default. Both 'X' and '=' are treated as 'M'\n",
            "                      and adjacent 'M' operations are merged in the CIGAR\n",
            "                      string.\n",
            "\n",
            "  --verbose           Output verbose information for debugging, such as un-\n",
            "                      matched chromosome/contig names.\n",
            "\n",
            "  -v                  Output version of the program.\n",
            "\n"
          ]
        }
      ]
    },
    {
      "cell_type": "code",
      "source": [
        "!featureCounts -g gene_id -a gen_ann.gtf -o feature_counts_fr4 /content/out816.bam /content/out817.bam /content/out818.bam /content/out819.bam "
      ],
      "metadata": {
        "colab": {
          "base_uri": "https://localhost:8080/"
        },
        "id": "q1cqI5YTVGiD",
        "outputId": "5d60ff43-0865-46af-dfd2-5fa585e07ad7"
      },
      "execution_count": 56,
      "outputs": [
        {
          "output_type": "stream",
          "name": "stdout",
          "text": [
            "\n",
            "       \u001b[44;37m ========== \u001b[0m\u001b[36m    _____ _    _ ____  _____  ______          _____  \n",
            "       \u001b[44;37m =====      \u001b[0m\u001b[36m   / ____| |  | |  _ \\|  __ \\|  ____|   /\\   |  __ \\ \n",
            "       \u001b[44;37m   =====    \u001b[0m\u001b[36m  | (___ | |  | | |_) | |__) | |__     /  \\  | |  | |\n",
            "       \u001b[44;37m     ====   \u001b[0m\u001b[36m   \\___ \\| |  | |  _ <|  _  /|  __|   / /\\ \\ | |  | |\n",
            "       \u001b[44;37m       ==== \u001b[0m\u001b[36m   ____) | |__| | |_) | | \\ \\| |____ / ____ \\| |__| |\n",
            "       \u001b[44;37m ========== \u001b[0m\u001b[36m  |_____/ \\____/|____/|_|  \\_\\______/_/    \\_\\_____/\u001b[0m\n",
            "\t  v2.0.0\n",
            "\n",
            "//==========================\u001b[36m featureCounts setting \u001b[0m===========================\\\\\n",
            "||  \u001b[0m                                                                          ||\n",
            "||             Input files : \u001b[36m4 BAM files  \u001b[0m \u001b[0m                                   ||\n",
            "||                           \u001b[32mo\u001b[36m out816.bam\u001b[0m \u001b[0m                                    ||\n",
            "||                           \u001b[32mo\u001b[36m out817.bam\u001b[0m \u001b[0m                                    ||\n",
            "||                           \u001b[32mo\u001b[36m out818.bam\u001b[0m \u001b[0m                                    ||\n",
            "||                           \u001b[32mo\u001b[36m out819.bam\u001b[0m \u001b[0m                                    ||\n",
            "||  \u001b[0m                                                                          ||\n",
            "||             Output file : \u001b[36mfeature_counts_fr4\u001b[0m \u001b[0m                              ||\n",
            "||                 Summary : \u001b[36mfeature_counts_fr4.summary\u001b[0m \u001b[0m                      ||\n",
            "||              Annotation : \u001b[36mgen_ann.gtf (GTF)\u001b[0m \u001b[0m                               ||\n",
            "||      Dir for temp files : \u001b[36m./\u001b[0m \u001b[0m                                              ||\n",
            "||  \u001b[0m                                                                          ||\n",
            "||                 Threads : \u001b[36m1\u001b[0m \u001b[0m                                               ||\n",
            "||                   Level : \u001b[36mmeta-feature level\u001b[0m \u001b[0m                              ||\n",
            "||              Paired-end : \u001b[36mno\u001b[0m \u001b[0m                                              ||\n",
            "||      Multimapping reads : \u001b[36mnot counted\u001b[0m \u001b[0m                                     ||\n",
            "|| Multi-overlapping reads : \u001b[36mnot counted\u001b[0m \u001b[0m                                     ||\n",
            "||   Min overlapping bases : \u001b[36m1\u001b[0m \u001b[0m                                               ||\n",
            "||  \u001b[0m                                                                          ||\n",
            "\\\\============================================================================//\n",
            "\n",
            "//=================================\u001b[36m Running \u001b[0m==================================\\\\\n",
            "||  \u001b[0m                                                                          ||\n",
            "|| Load annotation file gen_ann.gtf \u001b[0m... \u001b[0m                                      ||\n",
            "||    Features : \u001b[36m6831\u001b[0m \u001b[0m                                                        ||\n",
            "||    Meta-features : \u001b[36m6459\u001b[0m \u001b[0m                                                   ||\n",
            "||    Chromosomes/contigs : \u001b[36m17\u001b[0m \u001b[0m                                               ||\n",
            "||  \u001b[0m                                                                          ||\n",
            "|| Process BAM file out816.bam... \u001b[0m                                            ||\n",
            "||    Single-end reads are included. \u001b[0m                                         ||\n",
            "||    Total alignments : \u001b[36m9431020\u001b[0m \u001b[0m                                             ||\n",
            "||    Successfully assigned alignments : \u001b[36m7489924 (79.4%)\u001b[0m \u001b[0m                     ||\n",
            "||    Running time : \u001b[36m0.21 minutes\u001b[0m \u001b[0m                                            ||\n",
            "||  \u001b[0m                                                                          ||\n",
            "|| Process BAM file out817.bam... \u001b[0m                                            ||\n",
            "||    Single-end reads are included. \u001b[0m                                         ||\n",
            "||    Total alignments : \u001b[36m10361382\u001b[0m \u001b[0m                                            ||\n",
            "||    Successfully assigned alignments : \u001b[36m8342650 (80.5%)\u001b[0m \u001b[0m                     ||\n",
            "||    Running time : \u001b[36m0.22 minutes\u001b[0m \u001b[0m                                            ||\n",
            "||  \u001b[0m                                                                          ||\n",
            "|| Process BAM file out818.bam... \u001b[0m                                            ||\n",
            "||    Single-end reads are included. \u001b[0m                                         ||\n",
            "||    Total alignments : \u001b[36m1797321\u001b[0m \u001b[0m                                             ||\n",
            "||    Successfully assigned alignments : \u001b[36m1467116 (81.6%)\u001b[0m \u001b[0m                     ||\n",
            "||    Running time : \u001b[36m0.03 minutes\u001b[0m \u001b[0m                                            ||\n",
            "||  \u001b[0m                                                                          ||\n",
            "|| Process BAM file out819.bam... \u001b[0m                                            ||\n",
            "||    Single-end reads are included. \u001b[0m                                         ||\n",
            "||    Total alignments : \u001b[36m6514671\u001b[0m \u001b[0m                                             ||\n",
            "||    Successfully assigned alignments : \u001b[36m5193970 (79.7%)\u001b[0m \u001b[0m                     ||\n",
            "||    Running time : \u001b[36m0.12 minutes\u001b[0m \u001b[0m                                            ||\n",
            "||  \u001b[0m                                                                          ||\n",
            "||  \u001b[0m                                                                          ||\n",
            "|| Summary of counting results can be found in file \"feature_counts_fr4.summ \u001b[0m ||\n",
            "|| ary\" \u001b[0m                                                                      ||\n",
            "||  \u001b[0m                                                                          ||\n",
            "\\\\============================================================================//\n",
            "\n"
          ]
        }
      ]
    },
    {
      "cell_type": "code",
      "source": [
        "!cat /content/feature_counts_fr4.summary"
      ],
      "metadata": {
        "colab": {
          "base_uri": "https://localhost:8080/"
        },
        "id": "NY69aHNFWSE5",
        "outputId": "d7f66c08-2e10-4334-8575-61e30311793f"
      },
      "execution_count": 61,
      "outputs": [
        {
          "output_type": "stream",
          "name": "stdout",
          "text": [
            "Status\t/content/out816.bam\t/content/out817.bam\t/content/out818.bam\t/content/out819.bam\n",
            "Assigned\t7489924\t8342650\t1467116\t5193970\n",
            "Unassigned_Unmapped\t515651\t505448\t65765\t231797\n",
            "Unassigned_Read_Type\t0\t0\t0\t0\n",
            "Unassigned_Singleton\t0\t0\t0\t0\n",
            "Unassigned_MappingQuality\t0\t0\t0\t0\n",
            "Unassigned_Chimera\t0\t0\t0\t0\n",
            "Unassigned_FragmentLength\t0\t0\t0\t0\n",
            "Unassigned_Duplicate\t0\t0\t0\t0\n",
            "Unassigned_MultiMapping\t730431\t820993\t145855\t671228\n",
            "Unassigned_Secondary\t0\t0\t0\t0\n",
            "Unassigned_NonSplit\t0\t0\t0\t0\n",
            "Unassigned_NoFeatures\t616447\t631772\t103477\t383959\n",
            "Unassigned_Overlapping_Length\t0\t0\t0\t0\n",
            "Unassigned_Ambiguity\t78567\t60519\t15108\t33717\n"
          ]
        }
      ]
    },
    {
      "cell_type": "code",
      "source": [
        "!head /content/feature_counts_fr4"
      ],
      "metadata": {
        "colab": {
          "base_uri": "https://localhost:8080/"
        },
        "id": "iOC0k6rgXjMk",
        "outputId": "053a35e3-64e8-4356-90be-edf723467e80"
      },
      "execution_count": 62,
      "outputs": [
        {
          "output_type": "stream",
          "name": "stdout",
          "text": [
            "# Program:featureCounts v2.0.0; Command:\"featureCounts\" \"-g\" \"gene_id\" \"-a\" \"gen_ann.gtf\" \"-o\" \"feature_counts_fr4\" \"/content/out816.bam\" \"/content/out817.bam\" \"/content/out818.bam\" \"/content/out819.bam\" \n",
            "Geneid\tChr\tStart\tEnd\tStrand\tLength\t/content/out816.bam\t/content/out817.bam\t/content/out818.bam\t/content/out819.bam\n",
            "gene-YAL068C\tNC_001133.9\t1807\t2169\t-\t363\t13\t16\t2\t6\n",
            "gene-YAL067W-A\tNC_001133.9\t2480\t2707\t+\t228\t0\t0\t0\t0\n",
            "gene-YAL067C\tNC_001133.9\t7235\t9016\t-\t1782\t117\t69\t5\t11\n",
            "gene-YAL065C\tNC_001133.9\t11565\t11951\t-\t387\t11\t3\t2\t3\n",
            "gene-YAL064W-B\tNC_001133.9\t12046\t12426\t+\t381\t1\t3\t0\t0\n",
            "gene-YAL064C-A\tNC_001133.9\t13363\t13743\t-\t381\t0\t0\t1\t0\n",
            "gene-YAL064W\tNC_001133.9\t21566\t21850\t+\t285\t0\t0\t0\t0\n",
            "gene-YAL063C-A\tNC_001133.9\t22395\t22685\t-\t291\t0\t0\t0\t0\n"
          ]
        }
      ]
    },
    {
      "cell_type": "code",
      "source": [
        "!cat /content/feature_counts_fr4 | cut -f 1,7-10 > simple_counts.txt"
      ],
      "metadata": {
        "id": "uxGEhqDQWFEc"
      },
      "execution_count": 63,
      "outputs": []
    },
    {
      "cell_type": "code",
      "source": [
        "!head /content/simple_counts.txt -n 30"
      ],
      "metadata": {
        "colab": {
          "base_uri": "https://localhost:8080/"
        },
        "id": "vMHrZp59Wthp",
        "outputId": "3b2d15ab-91e7-412d-b555-6240b6ebc32b"
      },
      "execution_count": 64,
      "outputs": [
        {
          "output_type": "stream",
          "name": "stdout",
          "text": [
            "# Program:featureCounts v2.0.0; Command:\"featureCounts\" \"-g\" \"gene_id\" \"-a\" \"gen_ann.gtf\" \"-o\" \"feature_counts_fr4\" \"/content/out816.bam\" \"/content/out817.bam\" \"/content/out818.bam\" \"/content/out819.bam\" \n",
            "Geneid\t/content/out816.bam\t/content/out817.bam\t/content/out818.bam\t/content/out819.bam\n",
            "gene-YAL068C\t13\t16\t2\t6\n",
            "gene-YAL067W-A\t0\t0\t0\t0\n",
            "gene-YAL067C\t117\t69\t5\t11\n",
            "gene-YAL065C\t11\t3\t2\t3\n",
            "gene-YAL064W-B\t1\t3\t0\t0\n",
            "gene-YAL064C-A\t0\t0\t1\t0\n",
            "gene-YAL064W\t0\t0\t0\t0\n",
            "gene-YAL063C-A\t0\t0\t0\t0\n",
            "gene-YAL063C\t14\t36\t2\t4\n",
            "gene-YAL062W\t7630\t1097\t131\t162\n",
            "gene-YAL061W\t1914\t1945\t32\t82\n",
            "gene-YAL060W\t4102\t4844\t85\t334\n",
            "gene-YAL059W\t135\t256\t528\t1679\n",
            "gene-YAL058W\t85\t138\t55\t196\n",
            "gene-YAL056W\t1416\t1173\t26\t79\n",
            "gene-YAL055W\t227\t212\t12\t37\n",
            "gene-YAL054C\t23273\t6377\t158\t125\n",
            "gene-YAL053W\t1928\t774\t387\t924\n",
            "gene-YAL051W\t521\t474\t63\t198\n",
            "gene-YAL049C\t2665\t2406\t67\t295\n",
            "gene-YAL048C\t254\t226\t28\t86\n",
            "gene-YAL047C\t101\t123\t24\t86\n",
            "gene-YAL046C\t38\t193\t27\t152\n",
            "gene-YAL044W-A\t519\t462\t25\t124\n",
            "gene-YAL044C\t805\t1524\t141\t437\n",
            "gene-YAL043C\t636\t686\t126\t543\n",
            "gene-YAL042W\t422\t855\t140\t594\n",
            "gene-YAL041W\t166\t364\t124\t398\n"
          ]
        }
      ]
    },
    {
      "cell_type": "markdown",
      "source": [
        "## Finding the differentially expressed genes with Deseq2"
      ],
      "metadata": {
        "id": "fAtHI1tfX1Xu"
      }
    },
    {
      "cell_type": "markdown",
      "source": [
        "Some tutorials:\n",
        "* https://colab.research.google.com/github/pachterlab/CWGFLHGCCHAP_2021/blob/master/notebooks/CellAtlasAnalysis/deSeq2Analysis_StarvationResponse.ipynb\n",
        "* https://github.com/isb-cgc/Community-Notebooks/blob/master/Notebooks/How_to_analyze_differential_expression_between_paired_tumor_and_normal_samples.ipynb"
      ],
      "metadata": {
        "id": "yFr5Wuo1nLbf"
      }
    },
    {
      "cell_type": "markdown",
      "source": [
        "R code below (takes too much time to load packages in rpy...)"
      ],
      "metadata": {
        "id": "ncayfi2yAFCH"
      }
    },
    {
      "cell_type": "code",
      "source": [
        "if (!requireNamespace(\"BiocManager\", quietly = TRUE))\n",
        "  install.packages(\"BiocManager\")\n",
        "BiocManager::install(c(\"edgeR\", \"DESeq2\"))\n",
        "BiocManager::install(\"apeglm\")\n",
        "\n",
        "library(apeglm)\n",
        "library(DESeq2)\n",
        "library(edgeR)\n",
        "library(scales)\n",
        "\n",
        "counts <- read.table(\"simple_counts.txt\", header = TRUE, row.names = 1, check.names = FALSE)\n",
        "groups <- read.table(\"ann.txt\", header = TRUE)\n",
        "expr_group <- \"fermentation_30_min\"\n",
        "ctrl_group <- \"control_0_min\"\n",
        "\n",
        "\n",
        "groups$Group <- relevel(factor(groups$Group), ref = ctrl_group)\n",
        "rownames(groups) <- groups$Sample\n",
        "groups$Sample <- NULL\n",
        "\n",
        "dds <- DESeqDataSetFromMatrix(countData = counts,\n",
        "                              colData = groups,\n",
        "                              design = ~ Group)\n",
        "\n",
        "dds <- DESeq(dds)\n",
        "\n",
        "res <- lfcShrink(dds, coef = paste(\"Group_\", expr_group, \"_vs_\", ctrl_group, sep=\"\"), type = \"apeglm\")\n",
        "res <- res[order(res$padj),]\n",
        "\n",
        "write.table(res, file = \"results.tsv\", sep = \"\\t\", quote = FALSE)"
      ],
      "metadata": {
        "id": "HKT4EiyrAEXo"
      },
      "execution_count": null,
      "outputs": []
    },
    {
      "cell_type": "markdown",
      "source": [
        "## Analysing DESeq results"
      ],
      "metadata": {
        "id": "sO8F8zXMMQK_"
      }
    },
    {
      "cell_type": "markdown",
      "source": [
        "Loading data:"
      ],
      "metadata": {
        "id": "PgnDEV46MQYn"
      }
    },
    {
      "cell_type": "code",
      "source": [
        "url = 'https://raw.githubusercontent.com/checheanya/BI_git/main/HW6/results.tsv'\n",
        "df = pd.read_csv(url, sep='\\t')\n",
        "df.reset_index(inplace=True)\n",
        "\n",
        "df['gene'] = df['index'].apply(lambda x: x[5:])\n",
        "df.drop(columns=['index'], inplace=True)\n",
        "\n",
        "df.head()"
      ],
      "metadata": {
        "colab": {
          "base_uri": "https://localhost:8080/",
          "height": 206
        },
        "id": "BIhSZaajMQmr",
        "outputId": "7eb25748-7db2-4bdd-bcae-9e609c07b85f"
      },
      "execution_count": 28,
      "outputs": [
        {
          "output_type": "execute_result",
          "data": {
            "text/plain": [
              "        baseMean  log2FoldChange     lfcSE        pvalue          padj  \\\n",
              "0   16754.601076        7.870180  0.397689  2.588790e-88  1.517807e-84   \n",
              "2    8548.051857        7.840676  0.427337  1.810176e-76  3.537687e-73   \n",
              "1   10087.586366        7.835333  0.401283  3.649236e-86  1.069773e-82   \n",
              "3    2113.462978        7.736216  0.463548  8.278346e-64  1.213399e-60   \n",
              "14    593.855754        7.727296  0.558949  3.974131e-44  1.553355e-41   \n",
              "\n",
              "       gene  \n",
              "0   YER062C  \n",
              "2   YHR094C  \n",
              "1   YDR536W  \n",
              "3   YNL065W  \n",
              "14  YOL124C  "
            ],
            "text/html": [
              "\n",
              "  <div id=\"df-e3a88f32-011d-4d72-85d0-cd90705ced97\">\n",
              "    <div class=\"colab-df-container\">\n",
              "      <div>\n",
              "<style scoped>\n",
              "    .dataframe tbody tr th:only-of-type {\n",
              "        vertical-align: middle;\n",
              "    }\n",
              "\n",
              "    .dataframe tbody tr th {\n",
              "        vertical-align: top;\n",
              "    }\n",
              "\n",
              "    .dataframe thead th {\n",
              "        text-align: right;\n",
              "    }\n",
              "</style>\n",
              "<table border=\"1\" class=\"dataframe\">\n",
              "  <thead>\n",
              "    <tr style=\"text-align: right;\">\n",
              "      <th></th>\n",
              "      <th>baseMean</th>\n",
              "      <th>log2FoldChange</th>\n",
              "      <th>lfcSE</th>\n",
              "      <th>pvalue</th>\n",
              "      <th>padj</th>\n",
              "      <th>gene</th>\n",
              "    </tr>\n",
              "  </thead>\n",
              "  <tbody>\n",
              "    <tr>\n",
              "      <th>0</th>\n",
              "      <td>16754.601076</td>\n",
              "      <td>7.870180</td>\n",
              "      <td>0.397689</td>\n",
              "      <td>2.588790e-88</td>\n",
              "      <td>1.517807e-84</td>\n",
              "      <td>YER062C</td>\n",
              "    </tr>\n",
              "    <tr>\n",
              "      <th>2</th>\n",
              "      <td>8548.051857</td>\n",
              "      <td>7.840676</td>\n",
              "      <td>0.427337</td>\n",
              "      <td>1.810176e-76</td>\n",
              "      <td>3.537687e-73</td>\n",
              "      <td>YHR094C</td>\n",
              "    </tr>\n",
              "    <tr>\n",
              "      <th>1</th>\n",
              "      <td>10087.586366</td>\n",
              "      <td>7.835333</td>\n",
              "      <td>0.401283</td>\n",
              "      <td>3.649236e-86</td>\n",
              "      <td>1.069773e-82</td>\n",
              "      <td>YDR536W</td>\n",
              "    </tr>\n",
              "    <tr>\n",
              "      <th>3</th>\n",
              "      <td>2113.462978</td>\n",
              "      <td>7.736216</td>\n",
              "      <td>0.463548</td>\n",
              "      <td>8.278346e-64</td>\n",
              "      <td>1.213399e-60</td>\n",
              "      <td>YNL065W</td>\n",
              "    </tr>\n",
              "    <tr>\n",
              "      <th>14</th>\n",
              "      <td>593.855754</td>\n",
              "      <td>7.727296</td>\n",
              "      <td>0.558949</td>\n",
              "      <td>3.974131e-44</td>\n",
              "      <td>1.553355e-41</td>\n",
              "      <td>YOL124C</td>\n",
              "    </tr>\n",
              "  </tbody>\n",
              "</table>\n",
              "</div>\n",
              "      <button class=\"colab-df-convert\" onclick=\"convertToInteractive('df-e3a88f32-011d-4d72-85d0-cd90705ced97')\"\n",
              "              title=\"Convert this dataframe to an interactive table.\"\n",
              "              style=\"display:none;\">\n",
              "        \n",
              "  <svg xmlns=\"http://www.w3.org/2000/svg\" height=\"24px\"viewBox=\"0 0 24 24\"\n",
              "       width=\"24px\">\n",
              "    <path d=\"M0 0h24v24H0V0z\" fill=\"none\"/>\n",
              "    <path d=\"M18.56 5.44l.94 2.06.94-2.06 2.06-.94-2.06-.94-.94-2.06-.94 2.06-2.06.94zm-11 1L8.5 8.5l.94-2.06 2.06-.94-2.06-.94L8.5 2.5l-.94 2.06-2.06.94zm10 10l.94 2.06.94-2.06 2.06-.94-2.06-.94-.94-2.06-.94 2.06-2.06.94z\"/><path d=\"M17.41 7.96l-1.37-1.37c-.4-.4-.92-.59-1.43-.59-.52 0-1.04.2-1.43.59L10.3 9.45l-7.72 7.72c-.78.78-.78 2.05 0 2.83L4 21.41c.39.39.9.59 1.41.59.51 0 1.02-.2 1.41-.59l7.78-7.78 2.81-2.81c.8-.78.8-2.07 0-2.86zM5.41 20L4 18.59l7.72-7.72 1.47 1.35L5.41 20z\"/>\n",
              "  </svg>\n",
              "      </button>\n",
              "      \n",
              "  <style>\n",
              "    .colab-df-container {\n",
              "      display:flex;\n",
              "      flex-wrap:wrap;\n",
              "      gap: 12px;\n",
              "    }\n",
              "\n",
              "    .colab-df-convert {\n",
              "      background-color: #E8F0FE;\n",
              "      border: none;\n",
              "      border-radius: 50%;\n",
              "      cursor: pointer;\n",
              "      display: none;\n",
              "      fill: #1967D2;\n",
              "      height: 32px;\n",
              "      padding: 0 0 0 0;\n",
              "      width: 32px;\n",
              "    }\n",
              "\n",
              "    .colab-df-convert:hover {\n",
              "      background-color: #E2EBFA;\n",
              "      box-shadow: 0px 1px 2px rgba(60, 64, 67, 0.3), 0px 1px 3px 1px rgba(60, 64, 67, 0.15);\n",
              "      fill: #174EA6;\n",
              "    }\n",
              "\n",
              "    [theme=dark] .colab-df-convert {\n",
              "      background-color: #3B4455;\n",
              "      fill: #D2E3FC;\n",
              "    }\n",
              "\n",
              "    [theme=dark] .colab-df-convert:hover {\n",
              "      background-color: #434B5C;\n",
              "      box-shadow: 0px 1px 3px 1px rgba(0, 0, 0, 0.15);\n",
              "      filter: drop-shadow(0px 1px 2px rgba(0, 0, 0, 0.3));\n",
              "      fill: #FFFFFF;\n",
              "    }\n",
              "  </style>\n",
              "\n",
              "      <script>\n",
              "        const buttonEl =\n",
              "          document.querySelector('#df-e3a88f32-011d-4d72-85d0-cd90705ced97 button.colab-df-convert');\n",
              "        buttonEl.style.display =\n",
              "          google.colab.kernel.accessAllowed ? 'block' : 'none';\n",
              "\n",
              "        async function convertToInteractive(key) {\n",
              "          const element = document.querySelector('#df-e3a88f32-011d-4d72-85d0-cd90705ced97');\n",
              "          const dataTable =\n",
              "            await google.colab.kernel.invokeFunction('convertToInteractive',\n",
              "                                                     [key], {});\n",
              "          if (!dataTable) return;\n",
              "\n",
              "          const docLinkHtml = 'Like what you see? Visit the ' +\n",
              "            '<a target=\"_blank\" href=https://colab.research.google.com/notebooks/data_table.ipynb>data table notebook</a>'\n",
              "            + ' to learn more about interactive tables.';\n",
              "          element.innerHTML = '';\n",
              "          dataTable['output_type'] = 'display_data';\n",
              "          await google.colab.output.renderOutput(dataTable, element);\n",
              "          const docLink = document.createElement('div');\n",
              "          docLink.innerHTML = docLinkHtml;\n",
              "          element.appendChild(docLink);\n",
              "        }\n",
              "      </script>\n",
              "    </div>\n",
              "  </div>\n",
              "  "
            ]
          },
          "metadata": {},
          "execution_count": 28
        }
      ]
    },
    {
      "cell_type": "code",
      "source": [
        "import pandas as pd\n",
        "import numpy as np\n",
        "import matplotlib.pyplot as plt\n",
        "from matplotlib import rcParams\n",
        "import seaborn as sns"
      ],
      "metadata": {
        "id": "-k-70SDmPWjd"
      },
      "execution_count": 36,
      "outputs": []
    },
    {
      "cell_type": "markdown",
      "source": [
        "We can look at the distribution of the log fold changes and p-adjusted:"
      ],
      "metadata": {
        "id": "S8su07wBRzQE"
      }
    },
    {
      "cell_type": "code",
      "source": [
        "sns.displot(df, x='log2FoldChange');"
      ],
      "metadata": {
        "colab": {
          "base_uri": "https://localhost:8080/",
          "height": 382
        },
        "id": "KRxZZLkWPxkk",
        "outputId": "b402acd1-debf-443a-cfc0-e1c3477a90c2"
      },
      "execution_count": 41,
      "outputs": [
        {
          "output_type": "display_data",
          "data": {
            "text/plain": [
              "<Figure size 1440x576 with 0 Axes>"
            ]
          },
          "metadata": {}
        },
        {
          "output_type": "display_data",
          "data": {
            "text/plain": [
              "<Figure size 360x360 with 1 Axes>"
            ],
            "image/png": "[encoded data removed]"
          },
          "metadata": {}
        }
      ]
    },
    {
      "cell_type": "code",
      "source": [
        "sns.displot(df, x='padj');"
      ],
      "metadata": {
        "colab": {
          "base_uri": "https://localhost:8080/",
          "height": 365
        },
        "id": "vpaPBmy4SKvj",
        "outputId": "f48fb4a1-e36d-479b-a499-8c3c81913499"
      },
      "execution_count": 42,
      "outputs": [
        {
          "output_type": "display_data",
          "data": {
            "text/plain": [
              "<Figure size 360x360 with 1 Axes>"
            ],
            "image/png": "[encoded data removed]"
          },
          "metadata": {}
        }
      ]
    },
    {
      "cell_type": "markdown",
      "source": [
        "We can build volcano plot:"
      ],
      "metadata": {
        "id": "-cxfpgMWSX5G"
      }
    },
    {
      "cell_type": "code",
      "source": [
        "!pip install bioinfokit"
      ],
      "metadata": {
        "colab": {
          "base_uri": "https://localhost:8080/"
        },
        "id": "m3TvDjYHiXPt",
        "outputId": "a3dfcc6b-1a70-45ce-8423-d4b8a34649cb"
      },
      "execution_count": 43,
      "outputs": [
        {
          "output_type": "stream",
          "name": "stdout",
          "text": [
            "Looking in indexes: https://pypi.org/simple, https://us-python.pkg.dev/colab-wheels/public/simple/\n",
            "Collecting bioinfokit\n",
            "  Downloading bioinfokit-2.1.0.tar.gz (86 kB)\n",
            "\u001b[?25l     \u001b[90m━━━━━━━━━━━━━━━━━━━━━━━━━━━━━━━━━━━━━━━━\u001b[0m \u001b[32m0.0/87.0 KB\u001b[0m \u001b[31m?\u001b[0m eta \u001b[36m-:--:--\u001b[0m\r\u001b[2K     \u001b[90m━━━━━━━━━━━━━━━━━━━━━━━━━━━━━━━━━━━━━━━━\u001b[0m \u001b[32m87.0/87.0 KB\u001b[0m \u001b[31m3.8 MB/s\u001b[0m eta \u001b[36m0:00:00\u001b[0m\n",
            "\u001b[?25h  Preparing metadata (setup.py) ... \u001b[?25l\u001b[?25hdone\n",
            "Requirement already satisfied: pandas in /usr/local/lib/python3.8/dist-packages (from bioinfokit) (1.3.5)\n",
            "Requirement already satisfied: numpy in /usr/local/lib/python3.8/dist-packages (from bioinfokit) (1.22.4)\n",
            "Requirement already satisfied: matplotlib in /usr/local/lib/python3.8/dist-packages (from bioinfokit) (3.5.3)\n",
            "Requirement already satisfied: scipy in /usr/local/lib/python3.8/dist-packages (from bioinfokit) (1.7.3)\n",
            "Requirement already satisfied: scikit-learn in /usr/local/lib/python3.8/dist-packages (from bioinfokit) (1.0.2)\n",
            "Requirement already satisfied: seaborn in /usr/local/lib/python3.8/dist-packages (from bioinfokit) (0.11.2)\n",
            "Requirement already satisfied: matplotlib-venn in /usr/local/lib/python3.8/dist-packages (from bioinfokit) (0.11.7)\n",
            "Requirement already satisfied: tabulate in /usr/local/lib/python3.8/dist-packages (from bioinfokit) (0.8.10)\n",
            "Requirement already satisfied: statsmodels in /usr/local/lib/python3.8/dist-packages (from bioinfokit) (0.12.2)\n",
            "Collecting textwrap3\n",
            "  Downloading textwrap3-0.9.2-py2.py3-none-any.whl (12 kB)\n",
            "Collecting adjustText\n",
            "  Downloading adjustText-0.8-py3-none-any.whl (9.1 kB)\n",
            "Requirement already satisfied: python-dateutil>=2.7 in /usr/local/lib/python3.8/dist-packages (from matplotlib->bioinfokit) (2.8.2)\n",
            "Requirement already satisfied: pillow>=6.2.0 in /usr/local/lib/python3.8/dist-packages (from matplotlib->bioinfokit) (8.4.0)\n",
            "Requirement already satisfied: packaging>=20.0 in /usr/local/lib/python3.8/dist-packages (from matplotlib->bioinfokit) (23.0)\n",
            "Requirement already satisfied: kiwisolver>=1.0.1 in /usr/local/lib/python3.8/dist-packages (from matplotlib->bioinfokit) (1.4.4)\n",
            "Requirement already satisfied: fonttools>=4.22.0 in /usr/local/lib/python3.8/dist-packages (from matplotlib->bioinfokit) (4.38.0)\n",
            "Requirement already satisfied: pyparsing>=2.2.1 in /usr/local/lib/python3.8/dist-packages (from matplotlib->bioinfokit) (3.0.9)\n",
            "Requirement already satisfied: cycler>=0.10 in /usr/local/lib/python3.8/dist-packages (from matplotlib->bioinfokit) (0.11.0)\n",
            "Requirement already satisfied: pytz>=2017.3 in /usr/local/lib/python3.8/dist-packages (from pandas->bioinfokit) (2022.7.1)\n",
            "Requirement already satisfied: joblib>=0.11 in /usr/local/lib/python3.8/dist-packages (from scikit-learn->bioinfokit) (1.2.0)\n",
            "Requirement already satisfied: threadpoolctl>=2.0.0 in /usr/local/lib/python3.8/dist-packages (from scikit-learn->bioinfokit) (3.1.0)\n",
            "Requirement already satisfied: patsy>=0.5 in /usr/local/lib/python3.8/dist-packages (from statsmodels->bioinfokit) (0.5.3)\n",
            "Requirement already satisfied: six in /usr/local/lib/python3.8/dist-packages (from patsy>=0.5->statsmodels->bioinfokit) (1.15.0)\n",
            "Building wheels for collected packages: bioinfokit\n",
            "  Building wheel for bioinfokit (setup.py) ... \u001b[?25l\u001b[?25hdone\n",
            "  Created wheel for bioinfokit: filename=bioinfokit-2.1.0-py3-none-any.whl size=58662 sha256=4e52584ba447691a92a2bdb652bc1b33cd7e08a7547ff7b09bfd31a8ba88bd52\n",
            "  Stored in directory: /root/.cache/pip/wheels/93/5b/a8/2be2669621c3c344d362eb6703e5fd7b6ece47a6b5ab35b207\n",
            "Successfully built bioinfokit\n",
            "Installing collected packages: textwrap3, adjustText, bioinfokit\n",
            "Successfully installed adjustText-0.8 bioinfokit-2.1.0 textwrap3-0.9.2\n"
          ]
        }
      ]
    },
    {
      "cell_type": "code",
      "source": [
        "from bioinfokit import analys, visuz"
      ],
      "metadata": {
        "id": "oR_LsqYIiF97"
      },
      "execution_count": 44,
      "outputs": []
    },
    {
      "cell_type": "code",
      "source": [
        "df.isna().sum()"
      ],
      "metadata": {
        "colab": {
          "base_uri": "https://localhost:8080/"
        },
        "id": "OdFt5hcOkc_u",
        "outputId": "a5735d06-7415-402c-c341-791aa3040d93"
      },
      "execution_count": 61,
      "outputs": [
        {
          "output_type": "execute_result",
          "data": {
            "text/plain": [
              "baseMean            0\n",
              "log2FoldChange    360\n",
              "lfcSE             360\n",
              "pvalue            360\n",
              "padj              596\n",
              "gene                0\n",
              "dtype: int64"
            ]
          },
          "metadata": {},
          "execution_count": 61
        }
      ]
    },
    {
      "cell_type": "code",
      "source": [
        "df_nn = df.dropna()"
      ],
      "metadata": {
        "id": "W9wrX6FzigtN"
      },
      "execution_count": 59,
      "outputs": []
    },
    {
      "cell_type": "code",
      "source": [
        "df_nn.isna().sum()"
      ],
      "metadata": {
        "colab": {
          "base_uri": "https://localhost:8080/"
        },
        "id": "ztULZG9lkZl1",
        "outputId": "c4fb7e8d-ba41-43ef-9496-d37d54c36f9c"
      },
      "execution_count": 60,
      "outputs": [
        {
          "output_type": "execute_result",
          "data": {
            "text/plain": [
              "baseMean          0\n",
              "log2FoldChange    0\n",
              "lfcSE             0\n",
              "pvalue            0\n",
              "padj              0\n",
              "gene              0\n",
              "dtype: int64"
            ]
          },
          "metadata": {},
          "execution_count": 60
        }
      ]
    },
    {
      "cell_type": "code",
      "source": [
        "names = list(df[(df['padj'] < 0.005) & (abs(df['log2FoldChange']) > 5.5)]['gene'])"
      ],
      "metadata": {
        "id": "lH9epAHOQysg"
      },
      "execution_count": 55,
      "outputs": []
    },
    {
      "cell_type": "code",
      "source": [
        "visuz.GeneExpression.volcano(df=df_nn, lfc=\"log2FoldChange\", pv=\"padj\", geneid=\"gene\", \n",
        "    genenames= names,\n",
        "    gstyle=2, sign_line=True, xlm=(-6,6,1), ylm=(0,61,5), figtype='svg', axtickfontsize=10,\n",
        "    axtickfontname='Verdana')"
      ],
      "metadata": {
        "colab": {
          "base_uri": "https://localhost:8080/"
        },
        "id": "dJbA0PVeSWs9",
        "outputId": "9fb2b812-9e67-4b9d-df5f-242d6e002aad"
      },
      "execution_count": 62,
      "outputs": [
        {
          "output_type": "stream",
          "name": "stderr",
          "text": [
            "WARNING:matplotlib.font_manager:findfont: Font family ['Verdana'] not found. Falling back to DejaVu Sans.\n",
            "WARNING:matplotlib.font_manager:findfont: Font family ['Arial'] not found. Falling back to DejaVu Sans.\n",
            "WARNING:matplotlib.font_manager:findfont: Font family ['Arial'] not found. Falling back to DejaVu Sans.\n"
          ]
        }
      ]
    },
    {
      "cell_type": "markdown",
      "source": [
        "## Gene Ontology annotation"
      ],
      "metadata": {
        "id": "o_i7-g6wvLGi"
      }
    },
    {
      "cell_type": "markdown",
      "source": [
        "Selecting top-50 genes:"
      ],
      "metadata": {
        "id": "o9Lt-4XhvTTF"
      }
    },
    {
      "cell_type": "code",
      "source": [
        "!head -n 50 result2.txt | cut -f 1 | cut -d \"-\" -f 2 > genes.txt"
      ],
      "metadata": {
        "id": "fX2LJnsGijYc"
      },
      "execution_count": 63,
      "outputs": []
    },
    {
      "cell_type": "markdown",
      "source": [
        "Results for top-50 genes could be found here: https://github.com/checheanya/BI_git/blob/main/HW6/GO_results_top50.txt "
      ],
      "metadata": {
        "id": "y1a4UQntvOtz"
      }
    },
    {
      "cell_type": "code",
      "source": [],
      "metadata": {
        "id": "i4g9u868vZvQ"
      },
      "execution_count": null,
      "outputs": []
    }
  ]
}